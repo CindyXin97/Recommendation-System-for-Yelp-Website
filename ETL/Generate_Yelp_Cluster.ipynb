{
 "nbformat": 4,
 "nbformat_minor": 2,
 "metadata": {
  "language_info": {
   "name": "python",
   "codemirror_mode": {
    "name": "ipython",
    "version": 2
   },
   "version": "2.7.16"
  },
  "orig_nbformat": 2,
  "file_extension": ".py",
  "mimetype": "text/x-python",
  "name": "python",
  "npconvert_exporter": "python",
  "pygments_lexer": "ipython2",
  "version": 2
 },
 "cells": [
  {
   "cell_type": "code",
   "execution_count": 1,
   "metadata": {},
   "outputs": [],
   "source": [
    "import pandas as pd\n",
    "import os\n",
    "import numpy as np\n",
    "import csv\n",
    "import random\n",
    "from datetime import date"
   ]
  },
  {
   "cell_type": "markdown",
   "execution_count": null,
   "metadata": {},
   "outputs": [],
   "source": [
    "## Import data"
   ]
  },
  {
   "cell_type": "code",
   "execution_count": 5,
   "metadata": {},
   "outputs": [],
   "source": [
    "Yelp_Business = pd.read_csv('data/yelp_business.csv') "
   ]
  },
  {
   "cell_type": "code",
   "execution_count": 22,
   "metadata": {},
   "outputs": [],
   "source": [
    "df_zip_filtered = pd.read_csv('data/clustered_df.csv')\n",
    "df_zip_filtered = df_zip_filtered.drop(columns=['Unnamed: 0'])"
   ]
  },
  {
   "cell_type": "code",
   "execution_count": 23,
   "metadata": {},
   "outputs": [],
   "source": [
    "zip_filtered = df_zip_label['postal_code']\n",
    "zip_filtered = zip_filtered.unique()\n",
    "zip_filtered = zip_filtered.tolist()\n",
    "zip_filtered = map(str,zip_filtered)\n",
    "Yelp_Filtered = Yelp_Business[Yelp_Business['postal_code'].isin(zip_filtered)]"
   ]
  },
  {
   "cell_type": "code",
   "execution_count": 9,
   "metadata": {},
   "outputs": [],
   "source": [
    "ListCategories = pd.read_excel('data/ListOfCategories.xlsx', sheet_name='AllCategories', skip_blank_lines=True, encoding='utf-8', usecols = \"A,B,X\")"
   ]
  },
  {
   "cell_type": "code",
   "execution_count": 10,
   "metadata": {},
   "outputs": [],
   "source": [
    "Yelp_Filtered_C = pd.merge(ListCategories, Yelp_Filtered, left_on=('FullList'), right_on=('categories'))\n",
    "Yelp_Filtered_C = Yelp_Filtered_C.drop(columns=['FullList'])"
   ]
  },
  {
   "cell_type": "code",
   "execution_count": 11,
   "metadata": {},
   "outputs": [],
   "source": [
    "BusHours = pd.read_csv('data/Pheonix_BusinessHour_r.csv')"
   ]
  },
  {
   "cell_type": "code",
   "execution_count": 12,
   "metadata": {},
   "outputs": [],
   "source": [
    "Yelp_Filtered_C_BH = pd.merge(BusHours, Yelp_Filtered_C, on='business_id')"
   ]
  },
  {
   "cell_type": "code",
   "execution_count": 24,
   "metadata": {},
   "outputs": [
    {
     "data": {
      "text/html": "<div>\n<style scoped>\n    .dataframe tbody tr th:only-of-type {\n        vertical-align: middle;\n    }\n\n    .dataframe tbody tr th {\n        vertical-align: top;\n    }\n\n    .dataframe thead th {\n        text-align: right;\n    }\n</style>\n<table border=\"1\" class=\"dataframe\">\n  <thead>\n    <tr style=\"text-align: right;\">\n      <th></th>\n      <th>postal_code</th>\n      <th>label</th>\n    </tr>\n  </thead>\n  <tbody>\n    <tr>\n      <th>0</th>\n      <td>85003</td>\n      <td>0</td>\n    </tr>\n    <tr>\n      <th>1</th>\n      <td>85001</td>\n      <td>0</td>\n    </tr>\n    <tr>\n      <th>2</th>\n      <td>85002</td>\n      <td>0</td>\n    </tr>\n    <tr>\n      <th>3</th>\n      <td>85004</td>\n      <td>-1</td>\n    </tr>\n    <tr>\n      <th>4</th>\n      <td>85030</td>\n      <td>0</td>\n    </tr>\n  </tbody>\n</table>\n</div>",
      "text/plain": "   postal_code  label\n0        85003      0\n1        85001      0\n2        85002      0\n3        85004     -1\n4        85030      0"
     },
     "execution_count": 24,
     "metadata": {},
     "output_type": "execute_result"
    }
   ],
   "source": [
    "df_zip_filtered.head()"
   ]
  },
  {
   "cell_type": "code",
   "execution_count": 13,
   "metadata": {},
   "outputs": [],
   "source": [
    "# Yelp_Reviews_Phoenix = pd.read_csv('BlueAreaData/data/Yelp_Reviews_Phoenix.csv')\n",
    "#Yelp_Blue_Area_c_reviews = pd.merge(Yelp_Blue_Area_c_bh,Yelp_Reviews_Phoenix, on='business_id' )"
   ]
  },
  {
   "cell_type": "code",
   "execution_count": 28,
   "metadata": {},
   "outputs": [],
   "source": [
    "df_zip_label['postal_code'] = df_zip_label['postal_code'].astype(int)\n",
    "Yelp_Filtered_C_BH['postal_code'] = Yelp_Filtered_C_BH['postal_code'].astype(int)\n",
    "Yelp_Filtered_C_BH_L = pd.merge(Yelp_Filtered_C_BH,df_zip_filtered, on='postal_code')"
   ]
  },
  {
   "cell_type": "code",
   "execution_count": 16,
   "metadata": {},
   "outputs": [
    {
     "data": {
      "text/html": "<div>\n<style scoped>\n    .dataframe tbody tr th:only-of-type {\n        vertical-align: middle;\n    }\n\n    .dataframe tbody tr th {\n        vertical-align: top;\n    }\n\n    .dataframe thead th {\n        text-align: right;\n    }\n</style>\n<table border=\"1\" class=\"dataframe\">\n  <thead>\n    <tr style=\"text-align: right;\">\n      <th></th>\n      <th>business_id</th>\n      <th>monday</th>\n      <th>tuesday</th>\n      <th>wednesday</th>\n      <th>thursday</th>\n      <th>friday</th>\n      <th>saturday</th>\n      <th>sunday</th>\n      <th>Shortlisted?</th>\n      <th>ProjectCategory</th>\n      <th>...</th>\n      <th>address</th>\n      <th>city</th>\n      <th>state</th>\n      <th>postal_code</th>\n      <th>latitude</th>\n      <th>longitude</th>\n      <th>stars</th>\n      <th>review_count</th>\n      <th>is_open</th>\n      <th>categories</th>\n    </tr>\n  </thead>\n  <tbody>\n    <tr>\n      <th>0</th>\n      <td>IPdJS6sF45RE5T93y9nQ4w</td>\n      <td>0.0</td>\n      <td>0.0</td>\n      <td>0.0</td>\n      <td>0.0</td>\n      <td>0.0</td>\n      <td>0.0</td>\n      <td>0.0</td>\n      <td>Yes</td>\n      <td>Diner</td>\n      <td>...</td>\n      <td>\"1401 N 75th Ave\"</td>\n      <td>Phoenix</td>\n      <td>AZ</td>\n      <td>85043</td>\n      <td>33.464143</td>\n      <td>-112.220098</td>\n      <td>2.5</td>\n      <td>27</td>\n      <td>1</td>\n      <td>American (New);American (Traditional);Diners;B...</td>\n    </tr>\n    <tr>\n      <th>1</th>\n      <td>7mFNJCgmZCiSjv2mzoP1Cg</td>\n      <td>11.0</td>\n      <td>11.0</td>\n      <td>11.0</td>\n      <td>11.0</td>\n      <td>12.0</td>\n      <td>12.0</td>\n      <td>11.0</td>\n      <td>Yes</td>\n      <td>Mexican</td>\n      <td>...</td>\n      <td>\"12660 N Tatum\"</td>\n      <td>Phoenix</td>\n      <td>AZ</td>\n      <td>85032</td>\n      <td>33.602717</td>\n      <td>-111.979256</td>\n      <td>3.0</td>\n      <td>92</td>\n      <td>1</td>\n      <td>American (New);American (Traditional);Nightlif...</td>\n    </tr>\n    <tr>\n      <th>2</th>\n      <td>oqEFEEKsESYuCjhDzrCuEg</td>\n      <td>16.0</td>\n      <td>16.0</td>\n      <td>16.0</td>\n      <td>16.0</td>\n      <td>16.0</td>\n      <td>15.0</td>\n      <td>15.0</td>\n      <td>Yes</td>\n      <td>Other</td>\n      <td>...</td>\n      <td>\"10 E Thomas Rd\"</td>\n      <td>Phoenix</td>\n      <td>AZ</td>\n      <td>85012</td>\n      <td>33.480700</td>\n      <td>-112.072288</td>\n      <td>3.0</td>\n      <td>7</td>\n      <td>1</td>\n      <td>American (New);American (Traditional);Restaurants</td>\n    </tr>\n    <tr>\n      <th>3</th>\n      <td>rrEdMe05VYoLju96bA_jzA</td>\n      <td>0.0</td>\n      <td>0.0</td>\n      <td>0.0</td>\n      <td>0.0</td>\n      <td>0.0</td>\n      <td>0.0</td>\n      <td>0.0</td>\n      <td>Yes</td>\n      <td>Other</td>\n      <td>...</td>\n      <td>\"711 E Carefree Hwy\"</td>\n      <td>Phoenix</td>\n      <td>AZ</td>\n      <td>85085</td>\n      <td>33.797710</td>\n      <td>-112.063690</td>\n      <td>4.0</td>\n      <td>50</td>\n      <td>1</td>\n      <td>American (New);American (Traditional);Restaurants</td>\n    </tr>\n    <tr>\n      <th>4</th>\n      <td>u6biYZCSOwyQ-WmXqQbbQA</td>\n      <td>11.0</td>\n      <td>11.0</td>\n      <td>11.0</td>\n      <td>11.0</td>\n      <td>11.0</td>\n      <td>12.0</td>\n      <td>11.0</td>\n      <td>Yes</td>\n      <td>Diner</td>\n      <td>...</td>\n      <td>\"300 W Camelback Rd\"</td>\n      <td>Phoenix</td>\n      <td>AZ</td>\n      <td>85013</td>\n      <td>33.509547</td>\n      <td>-112.078698</td>\n      <td>3.5</td>\n      <td>448</td>\n      <td>1</td>\n      <td>American (New);American (Traditional);Southern...</td>\n    </tr>\n  </tbody>\n</table>\n<p>5 rows × 22 columns</p>\n</div>",
      "text/plain": "              business_id  monday  tuesday  wednesday  thursday  friday  \\\n0  IPdJS6sF45RE5T93y9nQ4w     0.0      0.0        0.0       0.0     0.0   \n1  7mFNJCgmZCiSjv2mzoP1Cg    11.0     11.0       11.0      11.0    12.0   \n2  oqEFEEKsESYuCjhDzrCuEg    16.0     16.0       16.0      16.0    16.0   \n3  rrEdMe05VYoLju96bA_jzA     0.0      0.0        0.0       0.0     0.0   \n4  u6biYZCSOwyQ-WmXqQbbQA    11.0     11.0       11.0      11.0    11.0   \n\n   saturday  sunday Shortlisted? ProjectCategory  ...               address  \\\n0       0.0     0.0          Yes           Diner  ...     \"1401 N 75th Ave\"   \n1      12.0    11.0          Yes         Mexican  ...       \"12660 N Tatum\"   \n2      15.0    15.0          Yes           Other  ...      \"10 E Thomas Rd\"   \n3       0.0     0.0          Yes           Other  ...  \"711 E Carefree Hwy\"   \n4      12.0    11.0          Yes           Diner  ...  \"300 W Camelback Rd\"   \n\n      city state postal_code   latitude   longitude  stars  review_count  \\\n0  Phoenix    AZ       85043  33.464143 -112.220098    2.5            27   \n1  Phoenix    AZ       85032  33.602717 -111.979256    3.0            92   \n2  Phoenix    AZ       85012  33.480700 -112.072288    3.0             7   \n3  Phoenix    AZ       85085  33.797710 -112.063690    4.0            50   \n4  Phoenix    AZ       85013  33.509547 -112.078698    3.5           448   \n\n   is_open                                         categories  \n0        1  American (New);American (Traditional);Diners;B...  \n1        1  American (New);American (Traditional);Nightlif...  \n2        1  American (New);American (Traditional);Restaurants  \n3        1  American (New);American (Traditional);Restaurants  \n4        1  American (New);American (Traditional);Southern...  \n\n[5 rows x 22 columns]"
     },
     "execution_count": 16,
     "metadata": {},
     "output_type": "execute_result"
    }
   ],
   "source": [
    "Yelp_Filtered_C_BH.head()"
   ]
  },
  {
   "cell_type": "code",
   "execution_count": 30,
   "metadata": {},
   "outputs": [],
   "source": [
    "\n",
    "Yelp_Filtered_C_BH_L.to_csv('data/Yelp_Cluster_label.csv')"
   ]
  },
  {
   "cell_type": "code",
   "execution_count": null,
   "metadata": {},
   "outputs": [],
   "source": []
  }
 ]
}