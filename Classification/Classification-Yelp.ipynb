{
 "cells": [
  {
   "cell_type": "markdown",
   "metadata": {},
   "source": [
    "# First Look at the Dataset"
   ]
  },
  {
   "cell_type": "code",
   "execution_count": 395,
   "metadata": {},
   "outputs": [],
   "source": [
    "import pandas as pd\n",
    "All=pd.read_csv('Pheonix_Final_v2.csv')"
   ]
  },
  {
   "cell_type": "code",
   "execution_count": 396,
   "metadata": {},
   "outputs": [
    {
     "data": {
      "text/html": [
       "<div>\n",
       "<style scoped>\n",
       "    .dataframe tbody tr th:only-of-type {\n",
       "        vertical-align: middle;\n",
       "    }\n",
       "\n",
       "    .dataframe tbody tr th {\n",
       "        vertical-align: top;\n",
       "    }\n",
       "\n",
       "    .dataframe thead th {\n",
       "        text-align: right;\n",
       "    }\n",
       "</style>\n",
       "<table border=\"1\" class=\"dataframe\">\n",
       "  <thead>\n",
       "    <tr style=\"text-align: right;\">\n",
       "      <th></th>\n",
       "      <th>Unnamed: 0</th>\n",
       "      <th>business_id</th>\n",
       "      <th>Shortlisted?</th>\n",
       "      <th>ProjectCategory</th>\n",
       "      <th>name</th>\n",
       "      <th>neighborhood</th>\n",
       "      <th>address</th>\n",
       "      <th>city</th>\n",
       "      <th>state</th>\n",
       "      <th>postal_code</th>\n",
       "      <th>latitude</th>\n",
       "      <th>longitude</th>\n",
       "      <th>stars</th>\n",
       "      <th>review_count</th>\n",
       "      <th>is_open</th>\n",
       "      <th>categories</th>\n",
       "      <th>label</th>\n",
       "      <th>PARKING</th>\n",
       "      <th>BikeParking</th>\n",
       "      <th>HairSpecializesIn_coloring</th>\n",
       "      <th>CONSUMER_SERVICE</th>\n",
       "      <th>NoiseLevel</th>\n",
       "      <th>Alcohol</th>\n",
       "      <th>Ambience_romantic</th>\n",
       "      <th>HappyHour</th>\n",
       "      <th>RECOMMENDATION</th>\n",
       "      <th>DogsAllowed</th>\n",
       "      <th>SPECIAL_FOOD</th>\n",
       "      <th>AgesAllowed</th>\n",
       "      <th>Unnamed: 0.1</th>\n",
       "      <th>weekday</th>\n",
       "      <th>weekend</th>\n",
       "      <th>averghour</th>\n",
       "      <th>if_Chain</th>\n",
       "      <th>polarity</th>\n",
       "    </tr>\n",
       "  </thead>\n",
       "  <tbody>\n",
       "    <tr>\n",
       "      <td>0</td>\n",
       "      <td>0</td>\n",
       "      <td>rDMptJYWtnMhpQu_rRXHng</td>\n",
       "      <td>Yes</td>\n",
       "      <td>Burger</td>\n",
       "      <td>\"McDonald's\"</td>\n",
       "      <td>NaN</td>\n",
       "      <td>\"719 E Thunderbird Rd\"</td>\n",
       "      <td>Phoenix</td>\n",
       "      <td>AZ</td>\n",
       "      <td>85022</td>\n",
       "      <td>33.607070</td>\n",
       "      <td>-112.064382</td>\n",
       "      <td>1.0</td>\n",
       "      <td>10</td>\n",
       "      <td>1</td>\n",
       "      <td>Fast Food;Burgers;Restaurants</td>\n",
       "      <td>-1</td>\n",
       "      <td>1</td>\n",
       "      <td>0</td>\n",
       "      <td>0</td>\n",
       "      <td>0</td>\n",
       "      <td>0</td>\n",
       "      <td>0</td>\n",
       "      <td>0</td>\n",
       "      <td>0</td>\n",
       "      <td>0</td>\n",
       "      <td>1</td>\n",
       "      <td>0.0</td>\n",
       "      <td>0</td>\n",
       "      <td>3253</td>\n",
       "      <td>0.0</td>\n",
       "      <td>0.0</td>\n",
       "      <td>0.000000</td>\n",
       "      <td>1</td>\n",
       "      <td>0.152415</td>\n",
       "    </tr>\n",
       "    <tr>\n",
       "      <td>1</td>\n",
       "      <td>1</td>\n",
       "      <td>1WBkAuQg81kokZIPMpn9Zg</td>\n",
       "      <td>Yes</td>\n",
       "      <td>Burger</td>\n",
       "      <td>\"Charr An American Burger Bar\"</td>\n",
       "      <td>NaN</td>\n",
       "      <td>\"777 E Thunderbird Rd, Ste 107\"</td>\n",
       "      <td>Phoenix</td>\n",
       "      <td>AZ</td>\n",
       "      <td>85022</td>\n",
       "      <td>33.607310</td>\n",
       "      <td>-112.063404</td>\n",
       "      <td>3.0</td>\n",
       "      <td>232</td>\n",
       "      <td>1</td>\n",
       "      <td>Burgers;Restaurants</td>\n",
       "      <td>-1</td>\n",
       "      <td>1</td>\n",
       "      <td>0</td>\n",
       "      <td>0</td>\n",
       "      <td>0</td>\n",
       "      <td>0</td>\n",
       "      <td>0</td>\n",
       "      <td>0</td>\n",
       "      <td>0</td>\n",
       "      <td>0</td>\n",
       "      <td>0</td>\n",
       "      <td>0.0</td>\n",
       "      <td>0</td>\n",
       "      <td>3229</td>\n",
       "      <td>56.0</td>\n",
       "      <td>22.0</td>\n",
       "      <td>11.142857</td>\n",
       "      <td>1</td>\n",
       "      <td>0.233437</td>\n",
       "    </tr>\n",
       "    <tr>\n",
       "      <td>2</td>\n",
       "      <td>2</td>\n",
       "      <td>iPa__LOhse-hobC2Xmp-Kw</td>\n",
       "      <td>Yes</td>\n",
       "      <td>Burger</td>\n",
       "      <td>\"McDonald's\"</td>\n",
       "      <td>NaN</td>\n",
       "      <td>\"1635 E Camelback Rd\"</td>\n",
       "      <td>Phoenix</td>\n",
       "      <td>AZ</td>\n",
       "      <td>85016</td>\n",
       "      <td>33.508765</td>\n",
       "      <td>-112.046240</td>\n",
       "      <td>3.0</td>\n",
       "      <td>34</td>\n",
       "      <td>1</td>\n",
       "      <td>Restaurants;Burgers;Fast Food</td>\n",
       "      <td>-1</td>\n",
       "      <td>1</td>\n",
       "      <td>0</td>\n",
       "      <td>0</td>\n",
       "      <td>0</td>\n",
       "      <td>0</td>\n",
       "      <td>0</td>\n",
       "      <td>0</td>\n",
       "      <td>0</td>\n",
       "      <td>0</td>\n",
       "      <td>1</td>\n",
       "      <td>0.0</td>\n",
       "      <td>0</td>\n",
       "      <td>2461</td>\n",
       "      <td>90.0</td>\n",
       "      <td>36.0</td>\n",
       "      <td>18.000000</td>\n",
       "      <td>1</td>\n",
       "      <td>0.104785</td>\n",
       "    </tr>\n",
       "    <tr>\n",
       "      <td>3</td>\n",
       "      <td>3</td>\n",
       "      <td>QkG3KUXwqZBW18A9k1xqCA</td>\n",
       "      <td>Yes</td>\n",
       "      <td>Other</td>\n",
       "      <td>\"Red Lobster\"</td>\n",
       "      <td>NaN</td>\n",
       "      <td>\"2810 North 75th Ave\"</td>\n",
       "      <td>Phoenix</td>\n",
       "      <td>AZ</td>\n",
       "      <td>85035</td>\n",
       "      <td>33.478735</td>\n",
       "      <td>-112.221379</td>\n",
       "      <td>2.5</td>\n",
       "      <td>37</td>\n",
       "      <td>1</td>\n",
       "      <td>American (Traditional);Restaurants;Seafood</td>\n",
       "      <td>0</td>\n",
       "      <td>0</td>\n",
       "      <td>1</td>\n",
       "      <td>0</td>\n",
       "      <td>0</td>\n",
       "      <td>0</td>\n",
       "      <td>0</td>\n",
       "      <td>0</td>\n",
       "      <td>0</td>\n",
       "      <td>0</td>\n",
       "      <td>0</td>\n",
       "      <td>0.0</td>\n",
       "      <td>0</td>\n",
       "      <td>3022</td>\n",
       "      <td>56.0</td>\n",
       "      <td>23.0</td>\n",
       "      <td>11.285714</td>\n",
       "      <td>0</td>\n",
       "      <td>0.198911</td>\n",
       "    </tr>\n",
       "    <tr>\n",
       "      <td>4</td>\n",
       "      <td>4</td>\n",
       "      <td>5XejqzaFmtkZMstJS5Iy-w</td>\n",
       "      <td>Yes</td>\n",
       "      <td>Sandwiches</td>\n",
       "      <td>\"D'Lish Cafe\"</td>\n",
       "      <td>NaN</td>\n",
       "      <td>\"503 W Thomas Rd\"</td>\n",
       "      <td>Phoenix</td>\n",
       "      <td>AZ</td>\n",
       "      <td>85013</td>\n",
       "      <td>33.480301</td>\n",
       "      <td>-112.080586</td>\n",
       "      <td>4.0</td>\n",
       "      <td>37</td>\n",
       "      <td>0</td>\n",
       "      <td>Vegan;American (New);Restaurants;Sandwiches;Sa...</td>\n",
       "      <td>0</td>\n",
       "      <td>0</td>\n",
       "      <td>0</td>\n",
       "      <td>0</td>\n",
       "      <td>1</td>\n",
       "      <td>0</td>\n",
       "      <td>0</td>\n",
       "      <td>0</td>\n",
       "      <td>0</td>\n",
       "      <td>0</td>\n",
       "      <td>0</td>\n",
       "      <td>0.0</td>\n",
       "      <td>0</td>\n",
       "      <td>623</td>\n",
       "      <td>25.0</td>\n",
       "      <td>10.0</td>\n",
       "      <td>5.000000</td>\n",
       "      <td>0</td>\n",
       "      <td>0.201747</td>\n",
       "    </tr>\n",
       "  </tbody>\n",
       "</table>\n",
       "</div>"
      ],
      "text/plain": [
       "   Unnamed: 0             business_id Shortlisted? ProjectCategory  \\\n",
       "0           0  rDMptJYWtnMhpQu_rRXHng          Yes          Burger   \n",
       "1           1  1WBkAuQg81kokZIPMpn9Zg          Yes          Burger   \n",
       "2           2  iPa__LOhse-hobC2Xmp-Kw          Yes          Burger   \n",
       "3           3  QkG3KUXwqZBW18A9k1xqCA          Yes           Other   \n",
       "4           4  5XejqzaFmtkZMstJS5Iy-w          Yes      Sandwiches   \n",
       "\n",
       "                             name  neighborhood  \\\n",
       "0                    \"McDonald's\"           NaN   \n",
       "1  \"Charr An American Burger Bar\"           NaN   \n",
       "2                    \"McDonald's\"           NaN   \n",
       "3                   \"Red Lobster\"           NaN   \n",
       "4                   \"D'Lish Cafe\"           NaN   \n",
       "\n",
       "                           address     city state  postal_code   latitude  \\\n",
       "0           \"719 E Thunderbird Rd\"  Phoenix    AZ        85022  33.607070   \n",
       "1  \"777 E Thunderbird Rd, Ste 107\"  Phoenix    AZ        85022  33.607310   \n",
       "2            \"1635 E Camelback Rd\"  Phoenix    AZ        85016  33.508765   \n",
       "3            \"2810 North 75th Ave\"  Phoenix    AZ        85035  33.478735   \n",
       "4                \"503 W Thomas Rd\"  Phoenix    AZ        85013  33.480301   \n",
       "\n",
       "    longitude  stars  review_count  is_open  \\\n",
       "0 -112.064382    1.0            10        1   \n",
       "1 -112.063404    3.0           232        1   \n",
       "2 -112.046240    3.0            34        1   \n",
       "3 -112.221379    2.5            37        1   \n",
       "4 -112.080586    4.0            37        0   \n",
       "\n",
       "                                          categories  label  PARKING  \\\n",
       "0                      Fast Food;Burgers;Restaurants     -1        1   \n",
       "1                                Burgers;Restaurants     -1        1   \n",
       "2                      Restaurants;Burgers;Fast Food     -1        1   \n",
       "3         American (Traditional);Restaurants;Seafood      0        0   \n",
       "4  Vegan;American (New);Restaurants;Sandwiches;Sa...      0        0   \n",
       "\n",
       "   BikeParking  HairSpecializesIn_coloring  CONSUMER_SERVICE  NoiseLevel  \\\n",
       "0            0                           0                 0           0   \n",
       "1            0                           0                 0           0   \n",
       "2            0                           0                 0           0   \n",
       "3            1                           0                 0           0   \n",
       "4            0                           0                 1           0   \n",
       "\n",
       "   Alcohol  Ambience_romantic  HappyHour  RECOMMENDATION  DogsAllowed  \\\n",
       "0        0                  0          0               0            1   \n",
       "1        0                  0          0               0            0   \n",
       "2        0                  0          0               0            1   \n",
       "3        0                  0          0               0            0   \n",
       "4        0                  0          0               0            0   \n",
       "\n",
       "   SPECIAL_FOOD  AgesAllowed  Unnamed: 0.1  weekday  weekend  averghour  \\\n",
       "0           0.0            0          3253      0.0      0.0   0.000000   \n",
       "1           0.0            0          3229     56.0     22.0  11.142857   \n",
       "2           0.0            0          2461     90.0     36.0  18.000000   \n",
       "3           0.0            0          3022     56.0     23.0  11.285714   \n",
       "4           0.0            0           623     25.0     10.0   5.000000   \n",
       "\n",
       "   if_Chain  polarity  \n",
       "0         1  0.152415  \n",
       "1         1  0.233437  \n",
       "2         1  0.104785  \n",
       "3         0  0.198911  \n",
       "4         0  0.201747  "
      ]
     },
     "execution_count": 396,
     "metadata": {},
     "output_type": "execute_result"
    }
   ],
   "source": [
    "All.head()"
   ]
  },
  {
   "cell_type": "code",
   "execution_count": 397,
   "metadata": {},
   "outputs": [
    {
     "data": {
      "text/plain": [
       "Index(['Unnamed: 0', 'business_id', 'Shortlisted?', 'ProjectCategory', 'name',\n",
       "       'neighborhood', 'address', 'city', 'state', 'postal_code', 'latitude',\n",
       "       'longitude', 'stars', 'review_count', 'is_open', 'categories', 'label',\n",
       "       'PARKING', 'BikeParking', 'HairSpecializesIn_coloring',\n",
       "       'CONSUMER_SERVICE', 'NoiseLevel', 'Alcohol', 'Ambience_romantic',\n",
       "       'HappyHour', 'RECOMMENDATION', 'DogsAllowed', 'SPECIAL_FOOD',\n",
       "       'AgesAllowed', 'Unnamed: 0.1', 'weekday', 'weekend', 'averghour',\n",
       "       'if_Chain', 'polarity'],\n",
       "      dtype='object')"
      ]
     },
     "execution_count": 397,
     "metadata": {},
     "output_type": "execute_result"
    }
   ],
   "source": [
    "All.columns"
   ]
  },
  {
   "cell_type": "code",
   "execution_count": 398,
   "metadata": {},
   "outputs": [],
   "source": [
    "All1=All.drop(columns=['Unnamed: 0.1','Unnamed: 0','name','address', 'city', 'state', 'postal_code', 'latitude',\n",
    "       'longitude','categories','business_id'])"
   ]
  },
  {
   "cell_type": "markdown",
   "metadata": {},
   "source": [
    "### Encode Categorical Features"
   ]
  },
  {
   "cell_type": "code",
   "execution_count": 399,
   "metadata": {},
   "outputs": [],
   "source": [
    "from sklearn import preprocessing\n",
    "le = preprocessing.LabelEncoder()"
   ]
  },
  {
   "cell_type": "code",
   "execution_count": 400,
   "metadata": {},
   "outputs": [
    {
     "data": {
      "text/plain": [
       "<matplotlib.axes._subplots.AxesSubplot at 0x27beb049c50>"
      ]
     },
     "execution_count": 400,
     "metadata": {},
     "output_type": "execute_result"
    },
    {
     "data": {
      "image/png": "[encoded data removed]",
      "text/plain": [
       "<Figure size 432x288 with 1 Axes>"
      ]
     },
     "metadata": {},
     "output_type": "display_data"
    }
   ],
   "source": [
    "listings_missing_df = All1.isnull().mean()*100\n",
    "listings_missing_df.plot.bar(title='Missing values per column, %')"
   ]
  },
  {
   "cell_type": "code",
   "execution_count": 401,
   "metadata": {},
   "outputs": [],
   "source": [
    "All1['Shortlisted?']=le.fit_transform(All1['Shortlisted?']) \n",
    "All1['ProjectCategory']=le.fit_transform(All1['ProjectCategory']) \n",
    "All1=All1.drop(columns=['neighborhood'])\n",
    "All1['SPECIAL_FOOD'] = All1['SPECIAL_FOOD'].fillna(All1['SPECIAL_FOOD'].mode()[0])"
   ]
  },
  {
   "cell_type": "code",
   "execution_count": 402,
   "metadata": {},
   "outputs": [
    {
     "data": {
      "text/html": [
       "<div>\n",
       "<style scoped>\n",
       "    .dataframe tbody tr th:only-of-type {\n",
       "        vertical-align: middle;\n",
       "    }\n",
       "\n",
       "    .dataframe tbody tr th {\n",
       "        vertical-align: top;\n",
       "    }\n",
       "\n",
       "    .dataframe thead th {\n",
       "        text-align: right;\n",
       "    }\n",
       "</style>\n",
       "<table border=\"1\" class=\"dataframe\">\n",
       "  <thead>\n",
       "    <tr style=\"text-align: right;\">\n",
       "      <th></th>\n",
       "      <th>Shortlisted?</th>\n",
       "      <th>ProjectCategory</th>\n",
       "      <th>stars</th>\n",
       "      <th>review_count</th>\n",
       "      <th>is_open</th>\n",
       "      <th>label</th>\n",
       "      <th>PARKING</th>\n",
       "      <th>BikeParking</th>\n",
       "      <th>HairSpecializesIn_coloring</th>\n",
       "      <th>CONSUMER_SERVICE</th>\n",
       "      <th>NoiseLevel</th>\n",
       "      <th>Alcohol</th>\n",
       "      <th>Ambience_romantic</th>\n",
       "      <th>HappyHour</th>\n",
       "      <th>RECOMMENDATION</th>\n",
       "      <th>DogsAllowed</th>\n",
       "      <th>SPECIAL_FOOD</th>\n",
       "      <th>AgesAllowed</th>\n",
       "      <th>weekday</th>\n",
       "      <th>weekend</th>\n",
       "      <th>averghour</th>\n",
       "      <th>if_Chain</th>\n",
       "      <th>polarity</th>\n",
       "    </tr>\n",
       "  </thead>\n",
       "  <tbody>\n",
       "    <tr>\n",
       "      <td>0</td>\n",
       "      <td>0</td>\n",
       "      <td>3</td>\n",
       "      <td>1.0</td>\n",
       "      <td>10</td>\n",
       "      <td>1</td>\n",
       "      <td>-1</td>\n",
       "      <td>1</td>\n",
       "      <td>0</td>\n",
       "      <td>0</td>\n",
       "      <td>0</td>\n",
       "      <td>0</td>\n",
       "      <td>0</td>\n",
       "      <td>0</td>\n",
       "      <td>0</td>\n",
       "      <td>0</td>\n",
       "      <td>1</td>\n",
       "      <td>0.0</td>\n",
       "      <td>0</td>\n",
       "      <td>0.0</td>\n",
       "      <td>0.0</td>\n",
       "      <td>0.000000</td>\n",
       "      <td>1</td>\n",
       "      <td>0.152415</td>\n",
       "    </tr>\n",
       "    <tr>\n",
       "      <td>1</td>\n",
       "      <td>0</td>\n",
       "      <td>3</td>\n",
       "      <td>3.0</td>\n",
       "      <td>232</td>\n",
       "      <td>1</td>\n",
       "      <td>-1</td>\n",
       "      <td>1</td>\n",
       "      <td>0</td>\n",
       "      <td>0</td>\n",
       "      <td>0</td>\n",
       "      <td>0</td>\n",
       "      <td>0</td>\n",
       "      <td>0</td>\n",
       "      <td>0</td>\n",
       "      <td>0</td>\n",
       "      <td>0</td>\n",
       "      <td>0.0</td>\n",
       "      <td>0</td>\n",
       "      <td>56.0</td>\n",
       "      <td>22.0</td>\n",
       "      <td>11.142857</td>\n",
       "      <td>1</td>\n",
       "      <td>0.233437</td>\n",
       "    </tr>\n",
       "    <tr>\n",
       "      <td>2</td>\n",
       "      <td>0</td>\n",
       "      <td>3</td>\n",
       "      <td>3.0</td>\n",
       "      <td>34</td>\n",
       "      <td>1</td>\n",
       "      <td>-1</td>\n",
       "      <td>1</td>\n",
       "      <td>0</td>\n",
       "      <td>0</td>\n",
       "      <td>0</td>\n",
       "      <td>0</td>\n",
       "      <td>0</td>\n",
       "      <td>0</td>\n",
       "      <td>0</td>\n",
       "      <td>0</td>\n",
       "      <td>1</td>\n",
       "      <td>0.0</td>\n",
       "      <td>0</td>\n",
       "      <td>90.0</td>\n",
       "      <td>36.0</td>\n",
       "      <td>18.000000</td>\n",
       "      <td>1</td>\n",
       "      <td>0.104785</td>\n",
       "    </tr>\n",
       "    <tr>\n",
       "      <td>3</td>\n",
       "      <td>0</td>\n",
       "      <td>18</td>\n",
       "      <td>2.5</td>\n",
       "      <td>37</td>\n",
       "      <td>1</td>\n",
       "      <td>0</td>\n",
       "      <td>0</td>\n",
       "      <td>1</td>\n",
       "      <td>0</td>\n",
       "      <td>0</td>\n",
       "      <td>0</td>\n",
       "      <td>0</td>\n",
       "      <td>0</td>\n",
       "      <td>0</td>\n",
       "      <td>0</td>\n",
       "      <td>0</td>\n",
       "      <td>0.0</td>\n",
       "      <td>0</td>\n",
       "      <td>56.0</td>\n",
       "      <td>23.0</td>\n",
       "      <td>11.285714</td>\n",
       "      <td>0</td>\n",
       "      <td>0.198911</td>\n",
       "    </tr>\n",
       "    <tr>\n",
       "      <td>4</td>\n",
       "      <td>0</td>\n",
       "      <td>20</td>\n",
       "      <td>4.0</td>\n",
       "      <td>37</td>\n",
       "      <td>0</td>\n",
       "      <td>0</td>\n",
       "      <td>0</td>\n",
       "      <td>0</td>\n",
       "      <td>0</td>\n",
       "      <td>1</td>\n",
       "      <td>0</td>\n",
       "      <td>0</td>\n",
       "      <td>0</td>\n",
       "      <td>0</td>\n",
       "      <td>0</td>\n",
       "      <td>0</td>\n",
       "      <td>0.0</td>\n",
       "      <td>0</td>\n",
       "      <td>25.0</td>\n",
       "      <td>10.0</td>\n",
       "      <td>5.000000</td>\n",
       "      <td>0</td>\n",
       "      <td>0.201747</td>\n",
       "    </tr>\n",
       "  </tbody>\n",
       "</table>\n",
       "</div>"
      ],
      "text/plain": [
       "   Shortlisted?  ProjectCategory  stars  review_count  is_open  label  \\\n",
       "0             0                3    1.0            10        1     -1   \n",
       "1             0                3    3.0           232        1     -1   \n",
       "2             0                3    3.0            34        1     -1   \n",
       "3             0               18    2.5            37        1      0   \n",
       "4             0               20    4.0            37        0      0   \n",
       "\n",
       "   PARKING  BikeParking  HairSpecializesIn_coloring  CONSUMER_SERVICE  \\\n",
       "0        1            0                           0                 0   \n",
       "1        1            0                           0                 0   \n",
       "2        1            0                           0                 0   \n",
       "3        0            1                           0                 0   \n",
       "4        0            0                           0                 1   \n",
       "\n",
       "   NoiseLevel  Alcohol  Ambience_romantic  HappyHour  RECOMMENDATION  \\\n",
       "0           0        0                  0          0               0   \n",
       "1           0        0                  0          0               0   \n",
       "2           0        0                  0          0               0   \n",
       "3           0        0                  0          0               0   \n",
       "4           0        0                  0          0               0   \n",
       "\n",
       "   DogsAllowed  SPECIAL_FOOD  AgesAllowed  weekday  weekend  averghour  \\\n",
       "0            1           0.0            0      0.0      0.0   0.000000   \n",
       "1            0           0.0            0     56.0     22.0  11.142857   \n",
       "2            1           0.0            0     90.0     36.0  18.000000   \n",
       "3            0           0.0            0     56.0     23.0  11.285714   \n",
       "4            0           0.0            0     25.0     10.0   5.000000   \n",
       "\n",
       "   if_Chain  polarity  \n",
       "0         1  0.152415  \n",
       "1         1  0.233437  \n",
       "2         1  0.104785  \n",
       "3         0  0.198911  \n",
       "4         0  0.201747  "
      ]
     },
     "execution_count": 402,
     "metadata": {},
     "output_type": "execute_result"
    }
   ],
   "source": [
    "All1.head()"
   ]
  },
  {
   "cell_type": "markdown",
   "metadata": {},
   "source": [
    "# Import Libaries"
   ]
  },
  {
   "cell_type": "code",
   "execution_count": 403,
   "metadata": {},
   "outputs": [],
   "source": [
    "# Core Libraries\n",
    "import numpy as np\n",
    "import pandas as pd\n",
    "import datetime\n",
    "import random\n",
    "\n",
    "#Plots\n",
    "import seaborn as sns\n",
    "import matplotlib.pyplot as plt\n",
    "\n",
    "#Models\n",
    "from sklearn.ensemble import RandomForestClassifier, GradientBoostingClassifier, AdaBoostClassifier, BaggingClassifier\n",
    "#from sklearn.kernel_ridge import KernelRidge\n",
    "#from sklearn.linear_model import Ridge, RidgeCV, ElasticNet, ElasticNetCV\n",
    "from sklearn.svm import SVR\n",
    "from mlxtend.classifier import StackingCVClassifier\n",
    "import lightgbm as lgb\n",
    "from lightgbm import LGBMClassifier\n",
    "from xgboost import XGBClassifier\n",
    "from sklearn.model_selection import train_test_split\n",
    "from sklearn.svm import SVC \n",
    "\n",
    "#Stats\n",
    "from scipy.stats import skew, norm, boxcox_normmax\n",
    "from scipy.special import boxcox1p\n",
    "\n",
    "#Preprocess\n",
    "from sklearn.model_selection import GridSearchCV\n",
    "from sklearn.model_selection import KFold, cross_val_score\n",
    "from sklearn.metrics import mean_squared_error\n",
    "from sklearn.preprocessing import OneHotEncoder\n",
    "from sklearn.preprocessing import LabelEncoder\n",
    "from sklearn.pipeline import make_pipeline\n",
    "from sklearn.preprocessing import scale, StandardScaler, RobustScaler\n",
    "from sklearn.decomposition import PCA\n",
    "from sklearn.metrics import precision_recall_fscore_support\n",
    "from sklearn.metrics import classification_report\n",
    "\n",
    "#Show all the columns instead of part of them\n",
    "pd.set_option('display.max_columns', None)\n",
    "\n",
    "#ignore useless warnings\n",
    "import warnings\n",
    "warnings.filterwarnings(action='ignore')\n",
    "pd.options.display.max_seq_items = 8000\n",
    "pd.options.display.max_rows = 8000"
   ]
  },
  {
   "cell_type": "markdown",
   "metadata": {},
   "source": [
    "# Checking the missing value data"
   ]
  },
  {
   "cell_type": "markdown",
   "metadata": {},
   "source": [
    "We are satisified with the reusults that there is only the neighborhood columns which contains a lot of missing values, thus, we decided to drop the neighborhood columns "
   ]
  },
  {
   "cell_type": "markdown",
   "metadata": {},
   "source": [
    "### * Extract the datasets for blue area and datasets for red area"
   ]
  },
  {
   "cell_type": "code",
   "execution_count": 404,
   "metadata": {},
   "outputs": [
    {
     "data": {
      "text/plain": [
       "(2327, 23)"
      ]
     },
     "execution_count": 404,
     "metadata": {},
     "output_type": "execute_result"
    }
   ],
   "source": [
    "Blue=All1.loc[All1['label'] == -1]\n",
    "Blue.shape"
   ]
  },
  {
   "cell_type": "code",
   "execution_count": 405,
   "metadata": {},
   "outputs": [
    {
     "data": {
      "text/plain": [
       "(1973, 23)"
      ]
     },
     "execution_count": 405,
     "metadata": {},
     "output_type": "execute_result"
    }
   ],
   "source": [
    "Red=All1.loc[All1['label'] == 0]\n",
    "Red.shape"
   ]
  },
  {
   "cell_type": "markdown",
   "metadata": {},
   "source": [
    "# Explory Data Analysis（Y）"
   ]
  },
  {
   "cell_type": "code",
   "execution_count": 406,
   "metadata": {},
   "outputs": [
    {
     "data": {
      "image/png": "[encoded data removed]",
      "text/plain": [
       "<Figure size 864x576 with 1 Axes>"
      ]
     },
     "metadata": {},
     "output_type": "display_data"
    }
   ],
   "source": [
    "sns.set_style('white')\n",
    "plt.figure(figsize=(12, 8))\n",
    "sns.distplot(Blue['stars'])\n",
    "plt.xlabel('stars')\n",
    "plt.ylabel('Frequency')\n",
    "plt.title('Stars Distribution')\n",
    "plt.show()"
   ]
  },
  {
   "cell_type": "markdown",
   "metadata": {},
   "source": [
    "# Feature Engineering"
   ]
  },
  {
   "cell_type": "markdown",
   "metadata": {},
   "source": [
    "### * categorize Y varible"
   ]
  },
  {
   "cell_type": "code",
   "execution_count": 407,
   "metadata": {},
   "outputs": [
    {
     "data": {
      "text/plain": [
       "4.0    610\n",
       "3.5    525\n",
       "3.0    363\n",
       "4.5    326\n",
       "2.5    223\n",
       "2.0    135\n",
       "5.0     92\n",
       "1.5     46\n",
       "1.0      7\n",
       "Name: stars, dtype: int64"
      ]
     },
     "execution_count": 407,
     "metadata": {},
     "output_type": "execute_result"
    }
   ],
   "source": [
    "Blue.stars.value_counts()"
   ]
  },
  {
   "cell_type": "code",
   "execution_count": 408,
   "metadata": {},
   "outputs": [],
   "source": [
    "Blue['stars'] = Blue['stars'].astype(float)\n",
    "star = []\n",
    "for i in Blue['stars']:\n",
    "    if i <= 3.5:\n",
    "        star.append(1)\n",
    "    else:\n",
    "        star.append(2)\n",
    "Blue['stars'] = star"
   ]
  },
  {
   "cell_type": "code",
   "execution_count": 409,
   "metadata": {},
   "outputs": [],
   "source": [
    "y=Blue['stars']"
   ]
  },
  {
   "cell_type": "code",
   "execution_count": 410,
   "metadata": {
    "scrolled": true
   },
   "outputs": [
    {
     "name": "stdout",
     "output_type": "stream",
     "text": [
      "(1861, 23) (1861,)\n",
      "(466, 23) (466,)\n"
     ]
    }
   ],
   "source": [
    "X_train, X_test, y_train, y_test = train_test_split(Blue, y, test_size=0.2)\n",
    "print(X_train.shape, y_train.shape)\n",
    "print(X_test.shape, y_test.shape)"
   ]
  },
  {
   "cell_type": "code",
   "execution_count": 411,
   "metadata": {},
   "outputs": [],
   "source": [
    "# Split features and labels\n",
    "train_labels = X_train['stars'].reset_index(drop=True)\n",
    "train_features = X_train.drop(['stars'], axis=1)"
   ]
  },
  {
   "cell_type": "code",
   "execution_count": 412,
   "metadata": {
    "scrolled": true
   },
   "outputs": [],
   "source": [
    "test_labels = X_test['stars'].reset_index(drop=True)\n",
    "test_features = X_test.drop(['stars'], axis=1)"
   ]
  },
  {
   "cell_type": "markdown",
   "metadata": {},
   "source": [
    "\n",
    "### Scaling"
   ]
  },
  {
   "cell_type": "code",
   "execution_count": 413,
   "metadata": {},
   "outputs": [],
   "source": [
    "train_features = preprocessing.scale(train_features)\n",
    "test_features = preprocessing.scale(test_features)"
   ]
  },
  {
   "cell_type": "markdown",
   "metadata": {},
   "source": [
    "\n",
    "# Setup Models"
   ]
  },
  {
   "cell_type": "code",
   "execution_count": 414,
   "metadata": {},
   "outputs": [],
   "source": [
    "# Light Gradient Boosting Classifiers\n",
    "lightgbm = LGBMClassifier(boosting_type='gbdt', \n",
    "                        num_leaves=6,\n",
    "                        learning_rate=0.01, \n",
    "                        n_estimators=7000,\n",
    "                        max_bin=200, \n",
    "                        bagging_fraction=0.8,\n",
    "                        bagging_freq=4, \n",
    "                        bagging_seed=8,\n",
    "                        feature_fraction=0.2,\n",
    "                        feature_fraction_seed=8,\n",
    "                        min_sum_hessian_in_leaf = 11,\n",
    "                        verbose=-1,\n",
    "                        random_state=33)\n",
    "\n",
    "# XGBoost Classifiers\n",
    "xgboost = XGBClassifier(learning_rate=0.01,\n",
    "                        n_estimators=6000,\n",
    "                        max_depth=4,\n",
    "                        min_child_weight=0,\n",
    "                        gamma=0.6,\n",
    "                        subsample=0.7,\n",
    "                        colsample_bytree=0.7,\n",
    "                        objective='multi:softmax',\n",
    "                        nthread=-1,\n",
    "                        scale_pos_weight=1,\n",
    "                        seed=27,\n",
    "                        reg_alpha=0.00006,\n",
    "                        random_state=33)\n",
    "\n",
    "## Elasticnet for feature selection\n",
    "#elasticnet = make_pipeline(RobustScaler(),\n",
    "#                           ElasticNetCV(max_iter=1e7))\n",
    "\n",
    "# Support Vector Classifier\n",
    "svr = SVC(C=10000, gamma=0.0003)\n",
    "\n",
    "# Gradient Boosting Classifier\n",
    "gbr = GradientBoostingClassifier(n_estimators=3000,\n",
    "                                 learning_rate=0.1,\n",
    "                                 max_depth=2,\n",
    "                                 max_features=None,\n",
    "                                 min_samples_leaf=15,\n",
    "                                 min_samples_split=10,\n",
    "                                 #loss='huber',\n",
    "                                 random_state=33) \n",
    "\n",
    "# Random Forest Classifier\n",
    "rf = RandomForestClassifier(n_estimators=2400,\n",
    "                           max_depth=30,\n",
    "                           min_samples_split=5,\n",
    "                           min_samples_leaf=5,\n",
    "                           max_features=None,\n",
    "                           oob_score=True,\n",
    "                           random_state=42)\n",
    "\n",
    "# # Stack up all the models above, optimized using xgboost\n",
    "# stack_gen = StackingCVClassifier(classifiers=[lightgbm, svr, xgboost, gbr, rf], \n",
    "#                             use_probas=True,\n",
    "#                             use_features_in_secondary=True,\n",
    "#                             meta_classifier=lightgbm,\n",
    "#                             cv=6)"
   ]
  },
  {
   "cell_type": "markdown",
   "metadata": {},
   "source": [
    "# Train Models"
   ]
  },
  {
   "cell_type": "code",
   "execution_count": 416,
   "metadata": {},
   "outputs": [],
   "source": [
    "rf = RandomForestClassifier(n_estimators=2400,\n",
    "                           max_depth=12,\n",
    "                           min_samples_split=15,\n",
    "                           min_samples_leaf=15,\n",
    "                           max_features=None,\n",
    "                           oob_score=True,\n",
    "                           random_state=42).fit(train_features, train_labels)"
   ]
  },
  {
   "cell_type": "code",
   "execution_count": 417,
   "metadata": {
    "scrolled": true
   },
   "outputs": [
    {
     "name": "stdout",
     "output_type": "stream",
     "text": [
      "              precision    recall  f1-score   support\n",
      "\n",
      "           1       0.73      0.80      0.76       265\n",
      "           2       0.70      0.60      0.65       201\n",
      "\n",
      "    accuracy                           0.71       466\n",
      "   macro avg       0.71      0.70      0.70       466\n",
      "weighted avg       0.71      0.71      0.71       466\n",
      "\n",
      "              precision    recall  f1-score   support\n",
      "\n",
      "           1       0.76      0.83      0.79      1034\n",
      "           2       0.76      0.67      0.71       827\n",
      "\n",
      "    accuracy                           0.76      1861\n",
      "   macro avg       0.76      0.75      0.75      1861\n",
      "weighted avg       0.76      0.76      0.76      1861\n",
      "\n"
     ]
    }
   ],
   "source": [
    "y_predict=rf.predict(test_features)\n",
    "print(classification_report(test_labels, y_predict))\n",
    "preds =rf.predict(train_features)\n",
    "print(classification_report(train_labels, preds))"
   ]
  },
  {
   "cell_type": "code",
   "execution_count": 418,
   "metadata": {},
   "outputs": [
    {
     "data": {
      "image/png": "[encoded data removed]",
      "text/plain": [
       "<Figure size 864x432 with 1 Axes>"
      ]
     },
     "metadata": {},
     "output_type": "display_data"
    }
   ],
   "source": [
    "importances = rf.feature_importances_\n",
    "feat_names = X_train.drop(['stars'],axis=1).columns\n",
    "indices = np.argsort(importances)[::-1]\n",
    "plt.figure(figsize=(12,6))\n",
    "plt.title(\"Feature importances by RandomForest\")\n",
    "plt.bar(range(len(indices)), importances[indices], color='lightblue',  align=\"center\")\n",
    "plt.step(range(len(indices)), np.cumsum(importances[indices]), where='mid', label='Cumulative')\n",
    "plt.xticks(range(len(indices)), feat_names[indices], rotation='vertical',fontsize=14)\n",
    "plt.xlim([-1, len(indices)])\n",
    "plt.show()"
   ]
  },
  {
   "cell_type": "code",
   "execution_count": 420,
   "metadata": {},
   "outputs": [
    {
     "name": "stdout",
     "output_type": "stream",
     "text": [
      "(1861, 23) (1861,)\n",
      "(466, 23) (466,)\n"
     ]
    }
   ],
   "source": [
    "Red['stars'] = Red['stars'].astype(float)\n",
    "star = []\n",
    "for i in Red['stars']:\n",
    "    if i <= 3.5:\n",
    "        star.append(1)\n",
    "    else:\n",
    "        star.append(2)\n",
    "Red['stars'] = star\n",
    "X_train, X_test, y_train, y_test = train_test_split(Blue, y, test_size=0.2)\n",
    "print(X_train.shape, y_train.shape)\n",
    "print(X_test.shape, y_test.shape)"
   ]
  },
  {
   "cell_type": "code",
   "execution_count": 421,
   "metadata": {},
   "outputs": [],
   "source": [
    "train_labels = X_train['stars'].reset_index(drop=True)\n",
    "train_features = X_train.drop(['stars'], axis=1)\n",
    "test_labels = X_test['stars'].reset_index(drop=True)\n",
    "test_features = X_test.drop(['stars'], axis=1)\n",
    "train_features = preprocessing.scale(train_features)\n",
    "test_features = preprocessing.scale(test_features)"
   ]
  },
  {
   "cell_type": "code",
   "execution_count": 429,
   "metadata": {},
   "outputs": [],
   "source": [
    "rf = RandomForestClassifier(n_estimators=2400,\n",
    "                           max_depth=12,\n",
    "                           min_samples_split=15,\n",
    "                           min_samples_leaf=5,\n",
    "                           max_features=None,\n",
    "                           oob_score=True,\n",
    "                           random_state=42).fit(train_features, train_labels)"
   ]
  },
  {
   "cell_type": "code",
   "execution_count": 430,
   "metadata": {},
   "outputs": [
    {
     "name": "stdout",
     "output_type": "stream",
     "text": [
      "              precision    recall  f1-score   support\n",
      "\n",
      "           1       0.69      0.59      0.63       264\n",
      "           2       0.55      0.65      0.59       202\n",
      "\n",
      "    accuracy                           0.61       466\n",
      "   macro avg       0.62      0.62      0.61       466\n",
      "weighted avg       0.63      0.61      0.62       466\n",
      "\n",
      "              precision    recall  f1-score   support\n",
      "\n",
      "           1       0.83      0.92      0.87      1035\n",
      "           2       0.88      0.76      0.82       826\n",
      "\n",
      "    accuracy                           0.85      1861\n",
      "   macro avg       0.85      0.84      0.84      1861\n",
      "weighted avg       0.85      0.85      0.85      1861\n",
      "\n"
     ]
    }
   ],
   "source": [
    "y_predict=rf.predict(test_features)\n",
    "print(classification_report(test_labels, y_predict))\n",
    "preds =rf.predict(train_features)\n",
    "print(classification_report(train_labels, preds))"
   ]
  },
  {
   "cell_type": "code",
   "execution_count": 424,
   "metadata": {},
   "outputs": [
    {
     "data": {
      "image/png": "[encoded data removed]",
      "text/plain": [
       "<Figure size 864x432 with 1 Axes>"
      ]
     },
     "metadata": {},
     "output_type": "display_data"
    }
   ],
   "source": [
    "importances = rf.feature_importances_\n",
    "feat_names = X_train.drop(['stars'],axis=1).columns\n",
    "indices = np.argsort(importances)[::-1]\n",
    "plt.figure(figsize=(12,6))\n",
    "plt.title(\"Feature importances by RandomForest\")\n",
    "plt.bar(range(len(indices)), importances[indices], color='lightblue',  align=\"center\")\n",
    "plt.step(range(len(indices)), np.cumsum(importances[indices]), where='mid', label='Cumulative')\n",
    "plt.xticks(range(len(indices)), feat_names[indices], rotation='vertical',fontsize=14)\n",
    "plt.xlim([-1, len(indices)])\n",
    "plt.show()"
   ]
  },
  {
   "cell_type": "code",
   "execution_count": null,
   "metadata": {},
   "outputs": [],
   "source": []
  }
 ],
 "metadata": {
  "kernelspec": {
   "display_name": "Python 3",
   "language": "python",
   "name": "python3"
  },
  "language_info": {
   "codemirror_mode": {
    "name": "ipython",
    "version": 3
   },
   "file_extension": ".py",
   "mimetype": "text/x-python",
   "name": "python",
   "nbconvert_exporter": "python",
   "pygments_lexer": "ipython3",
   "version": "3.7.0"
  }
 },
 "nbformat": 4,
 "nbformat_minor": 2
}
