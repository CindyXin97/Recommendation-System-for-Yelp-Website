{
 "cells": [
  {
   "cell_type": "markdown",
   "metadata": {},
   "source": [
    "# Yelp datasets -Classdification"
   ]
  },
  {
   "cell_type": "markdown",
   "metadata": {},
   "source": [
    "### Intro to this project:"
   ]
  },
  {
   "cell_type": "markdown",
   "metadata": {},
   "source": [
    "Based on the results of the cluster, we analyzed the factors that will lead to the success of the resteraunts on Yelp. The target varible is the stars of the comments which we used to define the success of the resterants. We compare the differences of the factors in red areas( commercial areas) and blue area (rural area)."
   ]
  },
  {
   "cell_type": "markdown",
   "metadata": {},
   "source": [
    "### Data:"
   ]
  },
  {
   "cell_type": "markdown",
   "metadata": {},
   "source": [
    "5000 rows with 35 columns (including the results of NLP)\n",
    "\n",
    "-- Missing Values (replace with mode)\n",
    "\n",
    "-- Scaling "
   ]
  },
  {
   "cell_type": "markdown",
   "metadata": {},
   "source": [
    "### Model"
   ]
  },
  {
   "cell_type": "markdown",
   "metadata": {},
   "source": [
    "We used SVM kernel method(svr),Xgboost, Gradiant Boosting, Light Boosting but it all shows the overfitting problem, however, random forest performs the best."
   ]
  },
  {
   "cell_type": "markdown",
   "metadata": {},
   "source": [
    "### Further Improvement:"
   ]
  },
  {
   "cell_type": "markdown",
   "metadata": {},
   "source": [
    "1.Using Gen-Stack which is a stacking methods to emssemble all the models together.\n",
    "\n",
    "2.As the stars maybe biaed, we may combine both review counts and stars as y variables.\n",
    "or we may take the average stars of some websites or we analysis the correaltions between the revenue and stars."
   ]
  },
  {
   "cell_type": "markdown",
   "metadata": {},
   "source": [
    "# 1.  Look at the Dataset"
   ]
  },
  {
   "cell_type": "code",
   "execution_count": 2,
   "metadata": {},
   "outputs": [],
   "source": [
    "import pandas as pd\n",
    "All=pd.read_csv('Pheonix_Final_v2.csv')"
   ]
  },
  {
   "cell_type": "code",
   "execution_count": 5,
   "metadata": {},
   "outputs": [
    {
     "data": {
      "text/html": [
       "<div>\n",
       "<style scoped>\n",
       "    .dataframe tbody tr th:only-of-type {\n",
       "        vertical-align: middle;\n",
       "    }\n",
       "\n",
       "    .dataframe tbody tr th {\n",
       "        vertical-align: top;\n",
       "    }\n",
       "\n",
       "    .dataframe thead th {\n",
       "        text-align: right;\n",
       "    }\n",
       "</style>\n",
       "<table border=\"1\" class=\"dataframe\">\n",
       "  <thead>\n",
       "    <tr style=\"text-align: right;\">\n",
       "      <th></th>\n",
       "      <th>Unnamed: 0</th>\n",
       "      <th>business_id</th>\n",
       "      <th>Shortlisted?</th>\n",
       "      <th>ProjectCategory</th>\n",
       "      <th>name</th>\n",
       "      <th>neighborhood</th>\n",
       "      <th>address</th>\n",
       "      <th>city</th>\n",
       "      <th>state</th>\n",
       "      <th>postal_code</th>\n",
       "      <th>...</th>\n",
       "      <th>RECOMMENDATION</th>\n",
       "      <th>DogsAllowed</th>\n",
       "      <th>SPECIAL_FOOD</th>\n",
       "      <th>AgesAllowed</th>\n",
       "      <th>Unnamed: 0.1</th>\n",
       "      <th>weekday</th>\n",
       "      <th>weekend</th>\n",
       "      <th>averghour</th>\n",
       "      <th>if_Chain</th>\n",
       "      <th>polarity</th>\n",
       "    </tr>\n",
       "  </thead>\n",
       "  <tbody>\n",
       "    <tr>\n",
       "      <th>0</th>\n",
       "      <td>0</td>\n",
       "      <td>rDMptJYWtnMhpQu_rRXHng</td>\n",
       "      <td>Yes</td>\n",
       "      <td>Burger</td>\n",
       "      <td>\"McDonald's\"</td>\n",
       "      <td>NaN</td>\n",
       "      <td>\"719 E Thunderbird Rd\"</td>\n",
       "      <td>Phoenix</td>\n",
       "      <td>AZ</td>\n",
       "      <td>85022</td>\n",
       "      <td>...</td>\n",
       "      <td>0</td>\n",
       "      <td>1</td>\n",
       "      <td>0.0</td>\n",
       "      <td>0</td>\n",
       "      <td>3253</td>\n",
       "      <td>0.0</td>\n",
       "      <td>0.0</td>\n",
       "      <td>0.000000</td>\n",
       "      <td>1</td>\n",
       "      <td>0.152415</td>\n",
       "    </tr>\n",
       "    <tr>\n",
       "      <th>1</th>\n",
       "      <td>1</td>\n",
       "      <td>1WBkAuQg81kokZIPMpn9Zg</td>\n",
       "      <td>Yes</td>\n",
       "      <td>Burger</td>\n",
       "      <td>\"Charr An American Burger Bar\"</td>\n",
       "      <td>NaN</td>\n",
       "      <td>\"777 E Thunderbird Rd, Ste 107\"</td>\n",
       "      <td>Phoenix</td>\n",
       "      <td>AZ</td>\n",
       "      <td>85022</td>\n",
       "      <td>...</td>\n",
       "      <td>0</td>\n",
       "      <td>0</td>\n",
       "      <td>0.0</td>\n",
       "      <td>0</td>\n",
       "      <td>3229</td>\n",
       "      <td>56.0</td>\n",
       "      <td>22.0</td>\n",
       "      <td>11.142857</td>\n",
       "      <td>1</td>\n",
       "      <td>0.233437</td>\n",
       "    </tr>\n",
       "    <tr>\n",
       "      <th>2</th>\n",
       "      <td>2</td>\n",
       "      <td>iPa__LOhse-hobC2Xmp-Kw</td>\n",
       "      <td>Yes</td>\n",
       "      <td>Burger</td>\n",
       "      <td>\"McDonald's\"</td>\n",
       "      <td>NaN</td>\n",
       "      <td>\"1635 E Camelback Rd\"</td>\n",
       "      <td>Phoenix</td>\n",
       "      <td>AZ</td>\n",
       "      <td>85016</td>\n",
       "      <td>...</td>\n",
       "      <td>0</td>\n",
       "      <td>1</td>\n",
       "      <td>0.0</td>\n",
       "      <td>0</td>\n",
       "      <td>2461</td>\n",
       "      <td>90.0</td>\n",
       "      <td>36.0</td>\n",
       "      <td>18.000000</td>\n",
       "      <td>1</td>\n",
       "      <td>0.104785</td>\n",
       "    </tr>\n",
       "    <tr>\n",
       "      <th>3</th>\n",
       "      <td>3</td>\n",
       "      <td>QkG3KUXwqZBW18A9k1xqCA</td>\n",
       "      <td>Yes</td>\n",
       "      <td>Other</td>\n",
       "      <td>\"Red Lobster\"</td>\n",
       "      <td>NaN</td>\n",
       "      <td>\"2810 North 75th Ave\"</td>\n",
       "      <td>Phoenix</td>\n",
       "      <td>AZ</td>\n",
       "      <td>85035</td>\n",
       "      <td>...</td>\n",
       "      <td>0</td>\n",
       "      <td>0</td>\n",
       "      <td>0.0</td>\n",
       "      <td>0</td>\n",
       "      <td>3022</td>\n",
       "      <td>56.0</td>\n",
       "      <td>23.0</td>\n",
       "      <td>11.285714</td>\n",
       "      <td>0</td>\n",
       "      <td>0.198911</td>\n",
       "    </tr>\n",
       "    <tr>\n",
       "      <th>4</th>\n",
       "      <td>4</td>\n",
       "      <td>5XejqzaFmtkZMstJS5Iy-w</td>\n",
       "      <td>Yes</td>\n",
       "      <td>Sandwiches</td>\n",
       "      <td>\"D'Lish Cafe\"</td>\n",
       "      <td>NaN</td>\n",
       "      <td>\"503 W Thomas Rd\"</td>\n",
       "      <td>Phoenix</td>\n",
       "      <td>AZ</td>\n",
       "      <td>85013</td>\n",
       "      <td>...</td>\n",
       "      <td>0</td>\n",
       "      <td>0</td>\n",
       "      <td>0.0</td>\n",
       "      <td>0</td>\n",
       "      <td>623</td>\n",
       "      <td>25.0</td>\n",
       "      <td>10.0</td>\n",
       "      <td>5.000000</td>\n",
       "      <td>0</td>\n",
       "      <td>0.201747</td>\n",
       "    </tr>\n",
       "  </tbody>\n",
       "</table>\n",
       "<p>5 rows × 35 columns</p>\n",
       "</div>"
      ],
      "text/plain": [
       "   Unnamed: 0             business_id Shortlisted? ProjectCategory  \\\n",
       "0           0  rDMptJYWtnMhpQu_rRXHng          Yes          Burger   \n",
       "1           1  1WBkAuQg81kokZIPMpn9Zg          Yes          Burger   \n",
       "2           2  iPa__LOhse-hobC2Xmp-Kw          Yes          Burger   \n",
       "3           3  QkG3KUXwqZBW18A9k1xqCA          Yes           Other   \n",
       "4           4  5XejqzaFmtkZMstJS5Iy-w          Yes      Sandwiches   \n",
       "\n",
       "                             name  neighborhood  \\\n",
       "0                    \"McDonald's\"           NaN   \n",
       "1  \"Charr An American Burger Bar\"           NaN   \n",
       "2                    \"McDonald's\"           NaN   \n",
       "3                   \"Red Lobster\"           NaN   \n",
       "4                   \"D'Lish Cafe\"           NaN   \n",
       "\n",
       "                           address     city state  postal_code  ...  \\\n",
       "0           \"719 E Thunderbird Rd\"  Phoenix    AZ        85022  ...   \n",
       "1  \"777 E Thunderbird Rd, Ste 107\"  Phoenix    AZ        85022  ...   \n",
       "2            \"1635 E Camelback Rd\"  Phoenix    AZ        85016  ...   \n",
       "3            \"2810 North 75th Ave\"  Phoenix    AZ        85035  ...   \n",
       "4                \"503 W Thomas Rd\"  Phoenix    AZ        85013  ...   \n",
       "\n",
       "   RECOMMENDATION  DogsAllowed  SPECIAL_FOOD  AgesAllowed  Unnamed: 0.1  \\\n",
       "0               0            1           0.0            0          3253   \n",
       "1               0            0           0.0            0          3229   \n",
       "2               0            1           0.0            0          2461   \n",
       "3               0            0           0.0            0          3022   \n",
       "4               0            0           0.0            0           623   \n",
       "\n",
       "  weekday  weekend  averghour  if_Chain  polarity  \n",
       "0     0.0      0.0   0.000000         1  0.152415  \n",
       "1    56.0     22.0  11.142857         1  0.233437  \n",
       "2    90.0     36.0  18.000000         1  0.104785  \n",
       "3    56.0     23.0  11.285714         0  0.198911  \n",
       "4    25.0     10.0   5.000000         0  0.201747  \n",
       "\n",
       "[5 rows x 35 columns]"
      ]
     },
     "execution_count": 5,
     "metadata": {},
     "output_type": "execute_result"
    }
   ],
   "source": [
    "All.head()"
   ]
  },
  {
   "cell_type": "code",
   "execution_count": 6,
   "metadata": {},
   "outputs": [
    {
     "data": {
      "text/plain": [
       "Index([u'Unnamed: 0', u'business_id', u'Shortlisted?', u'ProjectCategory',\n",
       "       u'name', u'neighborhood', u'address', u'city', u'state', u'postal_code',\n",
       "       u'latitude', u'longitude', u'stars', u'review_count', u'is_open',\n",
       "       u'categories', u'label', u'PARKING', u'BikeParking',\n",
       "       u'HairSpecializesIn_coloring', u'CONSUMER_SERVICE', u'NoiseLevel',\n",
       "       u'Alcohol', u'Ambience_romantic', u'HappyHour', u'RECOMMENDATION',\n",
       "       u'DogsAllowed', u'SPECIAL_FOOD', u'AgesAllowed', u'Unnamed: 0.1',\n",
       "       u'weekday', u'weekend', u'averghour', u'if_Chain', u'polarity'],\n",
       "      dtype='object')"
      ]
     },
     "execution_count": 6,
     "metadata": {},
     "output_type": "execute_result"
    }
   ],
   "source": [
    "All.columns"
   ]
  },
  {
   "cell_type": "code",
   "execution_count": 7,
   "metadata": {},
   "outputs": [],
   "source": [
    "All1=All.drop(columns=['Unnamed: 0.1','Unnamed: 0','name','address', 'city', 'state', 'postal_code', 'latitude',\n",
    "       'longitude','categories','business_id'])"
   ]
  },
  {
   "cell_type": "markdown",
   "metadata": {},
   "source": [
    "### 1.1 Encode Categorical Features"
   ]
  },
  {
   "cell_type": "code",
   "execution_count": 8,
   "metadata": {},
   "outputs": [],
   "source": [
    "from sklearn import preprocessing\n",
    "le = preprocessing.LabelEncoder()"
   ]
  },
  {
   "cell_type": "code",
   "execution_count": 9,
   "metadata": {},
   "outputs": [
    {
     "data": {
      "text/plain": [
       "<matplotlib.axes._subplots.AxesSubplot at 0x1a206ea2d0>"
      ]
     },
     "execution_count": 9,
     "metadata": {},
     "output_type": "execute_result"
    }
   ],
   "source": [
    "listings_missing_df = All1.isnull().mean()*100\n",
    "listings_missing_df.plot.bar(title='Missing values per column, %')"
   ]
  },
  {
   "cell_type": "code",
   "execution_count": 10,
   "metadata": {},
   "outputs": [],
   "source": [
    "All1['Shortlisted?']=le.fit_transform(All1['Shortlisted?']) \n",
    "All1['ProjectCategory']=le.fit_transform(All1['ProjectCategory']) \n",
    "All1=All1.drop(columns=['neighborhood'])\n",
    "All1['SPECIAL_FOOD'] = All1['SPECIAL_FOOD'].fillna(All1['SPECIAL_FOOD'].mode()[0])"
   ]
  },
  {
   "cell_type": "code",
   "execution_count": 11,
   "metadata": {},
   "outputs": [
    {
     "data": {
      "text/html": [
       "<div>\n",
       "<style scoped>\n",
       "    .dataframe tbody tr th:only-of-type {\n",
       "        vertical-align: middle;\n",
       "    }\n",
       "\n",
       "    .dataframe tbody tr th {\n",
       "        vertical-align: top;\n",
       "    }\n",
       "\n",
       "    .dataframe thead th {\n",
       "        text-align: right;\n",
       "    }\n",
       "</style>\n",
       "<table border=\"1\" class=\"dataframe\">\n",
       "  <thead>\n",
       "    <tr style=\"text-align: right;\">\n",
       "      <th></th>\n",
       "      <th>Shortlisted?</th>\n",
       "      <th>ProjectCategory</th>\n",
       "      <th>stars</th>\n",
       "      <th>review_count</th>\n",
       "      <th>is_open</th>\n",
       "      <th>label</th>\n",
       "      <th>PARKING</th>\n",
       "      <th>BikeParking</th>\n",
       "      <th>HairSpecializesIn_coloring</th>\n",
       "      <th>CONSUMER_SERVICE</th>\n",
       "      <th>...</th>\n",
       "      <th>HappyHour</th>\n",
       "      <th>RECOMMENDATION</th>\n",
       "      <th>DogsAllowed</th>\n",
       "      <th>SPECIAL_FOOD</th>\n",
       "      <th>AgesAllowed</th>\n",
       "      <th>weekday</th>\n",
       "      <th>weekend</th>\n",
       "      <th>averghour</th>\n",
       "      <th>if_Chain</th>\n",
       "      <th>polarity</th>\n",
       "    </tr>\n",
       "  </thead>\n",
       "  <tbody>\n",
       "    <tr>\n",
       "      <th>0</th>\n",
       "      <td>0</td>\n",
       "      <td>3</td>\n",
       "      <td>1.0</td>\n",
       "      <td>10</td>\n",
       "      <td>1</td>\n",
       "      <td>-1</td>\n",
       "      <td>1</td>\n",
       "      <td>0</td>\n",
       "      <td>0</td>\n",
       "      <td>0</td>\n",
       "      <td>...</td>\n",
       "      <td>0</td>\n",
       "      <td>0</td>\n",
       "      <td>1</td>\n",
       "      <td>0.0</td>\n",
       "      <td>0</td>\n",
       "      <td>0.0</td>\n",
       "      <td>0.0</td>\n",
       "      <td>0.000000</td>\n",
       "      <td>1</td>\n",
       "      <td>0.152415</td>\n",
       "    </tr>\n",
       "    <tr>\n",
       "      <th>1</th>\n",
       "      <td>0</td>\n",
       "      <td>3</td>\n",
       "      <td>3.0</td>\n",
       "      <td>232</td>\n",
       "      <td>1</td>\n",
       "      <td>-1</td>\n",
       "      <td>1</td>\n",
       "      <td>0</td>\n",
       "      <td>0</td>\n",
       "      <td>0</td>\n",
       "      <td>...</td>\n",
       "      <td>0</td>\n",
       "      <td>0</td>\n",
       "      <td>0</td>\n",
       "      <td>0.0</td>\n",
       "      <td>0</td>\n",
       "      <td>56.0</td>\n",
       "      <td>22.0</td>\n",
       "      <td>11.142857</td>\n",
       "      <td>1</td>\n",
       "      <td>0.233437</td>\n",
       "    </tr>\n",
       "    <tr>\n",
       "      <th>2</th>\n",
       "      <td>0</td>\n",
       "      <td>3</td>\n",
       "      <td>3.0</td>\n",
       "      <td>34</td>\n",
       "      <td>1</td>\n",
       "      <td>-1</td>\n",
       "      <td>1</td>\n",
       "      <td>0</td>\n",
       "      <td>0</td>\n",
       "      <td>0</td>\n",
       "      <td>...</td>\n",
       "      <td>0</td>\n",
       "      <td>0</td>\n",
       "      <td>1</td>\n",
       "      <td>0.0</td>\n",
       "      <td>0</td>\n",
       "      <td>90.0</td>\n",
       "      <td>36.0</td>\n",
       "      <td>18.000000</td>\n",
       "      <td>1</td>\n",
       "      <td>0.104785</td>\n",
       "    </tr>\n",
       "    <tr>\n",
       "      <th>3</th>\n",
       "      <td>0</td>\n",
       "      <td>18</td>\n",
       "      <td>2.5</td>\n",
       "      <td>37</td>\n",
       "      <td>1</td>\n",
       "      <td>0</td>\n",
       "      <td>0</td>\n",
       "      <td>1</td>\n",
       "      <td>0</td>\n",
       "      <td>0</td>\n",
       "      <td>...</td>\n",
       "      <td>0</td>\n",
       "      <td>0</td>\n",
       "      <td>0</td>\n",
       "      <td>0.0</td>\n",
       "      <td>0</td>\n",
       "      <td>56.0</td>\n",
       "      <td>23.0</td>\n",
       "      <td>11.285714</td>\n",
       "      <td>0</td>\n",
       "      <td>0.198911</td>\n",
       "    </tr>\n",
       "    <tr>\n",
       "      <th>4</th>\n",
       "      <td>0</td>\n",
       "      <td>20</td>\n",
       "      <td>4.0</td>\n",
       "      <td>37</td>\n",
       "      <td>0</td>\n",
       "      <td>0</td>\n",
       "      <td>0</td>\n",
       "      <td>0</td>\n",
       "      <td>0</td>\n",
       "      <td>1</td>\n",
       "      <td>...</td>\n",
       "      <td>0</td>\n",
       "      <td>0</td>\n",
       "      <td>0</td>\n",
       "      <td>0.0</td>\n",
       "      <td>0</td>\n",
       "      <td>25.0</td>\n",
       "      <td>10.0</td>\n",
       "      <td>5.000000</td>\n",
       "      <td>0</td>\n",
       "      <td>0.201747</td>\n",
       "    </tr>\n",
       "  </tbody>\n",
       "</table>\n",
       "<p>5 rows × 23 columns</p>\n",
       "</div>"
      ],
      "text/plain": [
       "   Shortlisted?  ProjectCategory  stars  review_count  is_open  label  \\\n",
       "0             0                3    1.0            10        1     -1   \n",
       "1             0                3    3.0           232        1     -1   \n",
       "2             0                3    3.0            34        1     -1   \n",
       "3             0               18    2.5            37        1      0   \n",
       "4             0               20    4.0            37        0      0   \n",
       "\n",
       "   PARKING  BikeParking  HairSpecializesIn_coloring  CONSUMER_SERVICE  ...  \\\n",
       "0        1            0                           0                 0  ...   \n",
       "1        1            0                           0                 0  ...   \n",
       "2        1            0                           0                 0  ...   \n",
       "3        0            1                           0                 0  ...   \n",
       "4        0            0                           0                 1  ...   \n",
       "\n",
       "   HappyHour  RECOMMENDATION  DogsAllowed  SPECIAL_FOOD  AgesAllowed  weekday  \\\n",
       "0          0               0            1           0.0            0      0.0   \n",
       "1          0               0            0           0.0            0     56.0   \n",
       "2          0               0            1           0.0            0     90.0   \n",
       "3          0               0            0           0.0            0     56.0   \n",
       "4          0               0            0           0.0            0     25.0   \n",
       "\n",
       "   weekend  averghour  if_Chain  polarity  \n",
       "0      0.0   0.000000         1  0.152415  \n",
       "1     22.0  11.142857         1  0.233437  \n",
       "2     36.0  18.000000         1  0.104785  \n",
       "3     23.0  11.285714         0  0.198911  \n",
       "4     10.0   5.000000         0  0.201747  \n",
       "\n",
       "[5 rows x 23 columns]"
      ]
     },
     "execution_count": 11,
     "metadata": {},
     "output_type": "execute_result"
    }
   ],
   "source": [
    "All1.head()"
   ]
  },
  {
   "cell_type": "markdown",
   "metadata": {},
   "source": [
    "# 2. Import Libaries"
   ]
  },
  {
   "cell_type": "code",
   "execution_count": 12,
   "metadata": {},
   "outputs": [
    {
     "name": "stderr",
     "output_type": "stream",
     "text": [
      "/Users/cindy/anaconda2/lib/python2.7/site-packages/lightgbm/__init__.py:48: UserWarning: Starting from version 2.2.1, the library file in distribution wheels for macOS is built by the Apple Clang (Xcode_8.3.3) compiler.\n",
      "This means that in case of installing LightGBM from PyPI via the ``pip install lightgbm`` command, you don't need to install the gcc compiler anymore.\n",
      "Instead of that, you need to install the OpenMP library, which is required for running LightGBM on the system with the Apple Clang compiler.\n",
      "You can install the OpenMP library by the following command: ``brew install libomp``.\n",
      "  \"You can install the OpenMP library by the following command: ``brew install libomp``.\", UserWarning)\n"
     ]
    }
   ],
   "source": [
    "# Core Libraries\n",
    "import numpy as np\n",
    "import pandas as pd\n",
    "import datetime\n",
    "import random\n",
    "\n",
    "#Plots\n",
    "import seaborn as sns\n",
    "import matplotlib.pyplot as plt\n",
    "\n",
    "#Models\n",
    "from sklearn.ensemble import RandomForestClassifier, GradientBoostingClassifier, AdaBoostClassifier, BaggingClassifier\n",
    "#from sklearn.kernel_ridge import KernelRidge\n",
    "#from sklearn.linear_model import Ridge, RidgeCV, ElasticNet, ElasticNetCV\n",
    "from sklearn.svm import SVR\n",
    "from mlxtend.classifier import StackingCVClassifier\n",
    "import lightgbm as lgb\n",
    "from lightgbm import LGBMClassifier\n",
    "from xgboost import XGBClassifier\n",
    "from sklearn.model_selection import train_test_split\n",
    "from sklearn.svm import SVC \n",
    "\n",
    "#Stats\n",
    "from scipy.stats import skew, norm, boxcox_normmax\n",
    "from scipy.special import boxcox1p\n",
    "\n",
    "#Preprocess\n",
    "from sklearn.model_selection import GridSearchCV\n",
    "from sklearn.model_selection import KFold, cross_val_score\n",
    "from sklearn.metrics import mean_squared_error\n",
    "from sklearn.preprocessing import OneHotEncoder\n",
    "from sklearn.preprocessing import LabelEncoder\n",
    "from sklearn.pipeline import make_pipeline\n",
    "from sklearn.preprocessing import scale, StandardScaler, RobustScaler\n",
    "from sklearn.decomposition import PCA\n",
    "from sklearn.metrics import precision_recall_fscore_support\n",
    "from sklearn.metrics import classification_report\n",
    "\n",
    "#Show all the columns instead of part of them\n",
    "pd.set_option('display.max_columns', None)\n",
    "\n",
    "#ignore useless warnings\n",
    "import warnings\n",
    "warnings.filterwarnings(action='ignore')\n",
    "pd.options.display.max_seq_items = 8000\n",
    "pd.options.display.max_rows = 8000"
   ]
  },
  {
   "cell_type": "markdown",
   "metadata": {},
   "source": [
    "# 3. Checking the missing value data"
   ]
  },
  {
   "cell_type": "markdown",
   "metadata": {},
   "source": [
    "We are satisified with the reusults that there is only the neighborhood columns which contains a lot of missing values, thus, we decided to drop the neighborhood columns "
   ]
  },
  {
   "cell_type": "markdown",
   "metadata": {},
   "source": [
    "### * Extract the datasets for blue area and datasets for red area"
   ]
  },
  {
   "cell_type": "code",
   "execution_count": 13,
   "metadata": {},
   "outputs": [
    {
     "data": {
      "text/plain": [
       "(2327, 23)"
      ]
     },
     "execution_count": 13,
     "metadata": {},
     "output_type": "execute_result"
    }
   ],
   "source": [
    "Blue=All1.loc[All1['label'] == -1]\n",
    "Blue.shape"
   ]
  },
  {
   "cell_type": "code",
   "execution_count": 14,
   "metadata": {},
   "outputs": [
    {
     "data": {
      "text/plain": [
       "(1973, 23)"
      ]
     },
     "execution_count": 14,
     "metadata": {},
     "output_type": "execute_result"
    }
   ],
   "source": [
    "Red=All1.loc[All1['label'] == 0]\n",
    "Red.shape"
   ]
  },
  {
   "cell_type": "markdown",
   "metadata": {},
   "source": [
    "# 4. Explory Data Analysis（Y）"
   ]
  },
  {
   "cell_type": "code",
   "execution_count": 15,
   "metadata": {},
   "outputs": [
    {
     "data": {
      "image/png": "[encoded data removed]",
      "text/plain": [
       "<Figure size 864x576 with 1 Axes>"
      ]
     },
     "metadata": {},
     "output_type": "display_data"
    }
   ],
   "source": [
    "sns.set_style('white')\n",
    "plt.figure(figsize=(12, 8))\n",
    "sns.distplot(Blue['stars'])\n",
    "plt.xlabel('stars')\n",
    "plt.ylabel('Frequency')\n",
    "plt.title('Stars Distribution')\n",
    "plt.show()"
   ]
  },
  {
   "cell_type": "markdown",
   "metadata": {},
   "source": [
    "# 5. Feature Engineering"
   ]
  },
  {
   "cell_type": "markdown",
   "metadata": {},
   "source": [
    "### * categorize Y varible"
   ]
  },
  {
   "cell_type": "code",
   "execution_count": 16,
   "metadata": {},
   "outputs": [
    {
     "data": {
      "text/plain": [
       "4.0    610\n",
       "3.5    525\n",
       "3.0    363\n",
       "4.5    326\n",
       "2.5    223\n",
       "2.0    135\n",
       "5.0     92\n",
       "1.5     46\n",
       "1.0      7\n",
       "Name: stars, dtype: int64"
      ]
     },
     "execution_count": 16,
     "metadata": {},
     "output_type": "execute_result"
    }
   ],
   "source": [
    "Blue.stars.value_counts()"
   ]
  },
  {
   "cell_type": "code",
   "execution_count": 17,
   "metadata": {},
   "outputs": [],
   "source": [
    "## Spliting the y variable\n",
    "Blue['stars'] = Blue['stars'].astype(float)\n",
    "star = []\n",
    "for i in Blue['stars']:\n",
    "    if i <= 3.5:\n",
    "        star.append(1)\n",
    "    else:\n",
    "        star.append(2)\n",
    "Blue['stars'] = star"
   ]
  },
  {
   "cell_type": "code",
   "execution_count": 18,
   "metadata": {},
   "outputs": [],
   "source": [
    "y=Blue['stars']"
   ]
  },
  {
   "cell_type": "code",
   "execution_count": 19,
   "metadata": {
    "scrolled": true
   },
   "outputs": [
    {
     "name": "stdout",
     "output_type": "stream",
     "text": [
      "((1861, 23), (1861,))\n",
      "((466, 23), (466,))\n"
     ]
    }
   ],
   "source": [
    "X_train, X_test, y_train, y_test = train_test_split(Blue, y, test_size=0.2)\n",
    "print(X_train.shape, y_train.shape)\n",
    "print(X_test.shape, y_test.shape)"
   ]
  },
  {
   "cell_type": "code",
   "execution_count": 20,
   "metadata": {},
   "outputs": [],
   "source": [
    "# Split features and labels\n",
    "train_labels = X_train['stars'].reset_index(drop=True)\n",
    "train_features = X_train.drop(['stars'], axis=1)"
   ]
  },
  {
   "cell_type": "code",
   "execution_count": 21,
   "metadata": {
    "scrolled": true
   },
   "outputs": [],
   "source": [
    "test_labels = X_test['stars'].reset_index(drop=True)\n",
    "test_features = X_test.drop(['stars'], axis=1)"
   ]
  },
  {
   "cell_type": "markdown",
   "metadata": {},
   "source": [
    "\n",
    "### Scaling"
   ]
  },
  {
   "cell_type": "code",
   "execution_count": 22,
   "metadata": {},
   "outputs": [],
   "source": [
    "train_features = preprocessing.scale(train_features)\n",
    "test_features = preprocessing.scale(test_features)"
   ]
  },
  {
   "cell_type": "markdown",
   "metadata": {},
   "source": [
    "\n",
    "# 6. Setup Models"
   ]
  },
  {
   "cell_type": "code",
   "execution_count": 24,
   "metadata": {},
   "outputs": [],
   "source": [
    "# Light Gradient Boosting Classifiers\n",
    "lightgbm = LGBMClassifier(boosting_type='gbdt', \n",
    "                        num_leaves=6,\n",
    "                        learning_rate=0.01, \n",
    "                        n_estimators=7000,\n",
    "                        max_bin=200, \n",
    "                        bagging_fraction=0.8,\n",
    "                        bagging_freq=4, \n",
    "                        bagging_seed=8,\n",
    "                        feature_fraction=0.2,\n",
    "                        feature_fraction_seed=8,\n",
    "                        min_sum_hessian_in_leaf = 11,\n",
    "                        verbose=-1,\n",
    "                        random_state=33)\n",
    "\n",
    "# XGBoost Classifiers\n",
    "xgboost = XGBClassifier(learning_rate=0.01,\n",
    "                        n_estimators=6000,\n",
    "                        max_depth=4,\n",
    "                        min_child_weight=0,\n",
    "                        gamma=0.6,\n",
    "                        subsample=0.7,\n",
    "                        colsample_bytree=0.7,\n",
    "                        objective='multi:softmax',\n",
    "                        nthread=-1,\n",
    "                        scale_pos_weight=1,\n",
    "                        seed=27,\n",
    "                        reg_alpha=0.00006,\n",
    "                        random_state=33)\n",
    "\n",
    "## Elasticnet for feature selection\n",
    "#elasticnet = make_pipeline(RobustScaler(),\n",
    "#                           ElasticNetCV(max_iter=1e7))\n",
    "\n",
    "# Support Vector Classifier\n",
    "svr = SVC(C=10000, gamma=0.0003)\n",
    "\n",
    "# Gradient Boosting Classifier\n",
    "gbr = GradientBoostingClassifier(n_estimators=3000,\n",
    "                                 learning_rate=0.1,\n",
    "                                 max_depth=2,\n",
    "                                 max_features=None,\n",
    "                                 min_samples_leaf=15,\n",
    "                                 min_samples_split=10,\n",
    "                                 #loss='huber',\n",
    "                                 random_state=33) \n",
    "\n",
    "# Random Forest Classifier\n",
    "rf = RandomForestClassifier(n_estimators=2400,\n",
    "                           max_depth=30,\n",
    "                           min_samples_split=5,\n",
    "                           min_samples_leaf=5,\n",
    "                           max_features=None,\n",
    "                           oob_score=True,\n",
    "                           random_state=42)\n",
    "\n",
    "# # Stack up all the models above, optimized using xgboost\n",
    "# stack_gen = StackingCVClassifier(classifiers=[lightgbm, svr, xgboost, gbr, rf], \n",
    "#                             use_probas=True,\n",
    "#                             use_features_in_secondary=True,\n",
    "#                             meta_classifier=lightgbm,\n",
    "#                             cv=6)"
   ]
  },
  {
   "cell_type": "markdown",
   "metadata": {},
   "source": [
    "# 7. Train Models"
   ]
  },
  {
   "cell_type": "code",
   "execution_count": 26,
   "metadata": {},
   "outputs": [],
   "source": [
    "rf = RandomForestClassifier(n_estimators=2400,\n",
    "                           max_depth=12,\n",
    "                           min_samples_split=15,\n",
    "                           min_samples_leaf=15,\n",
    "                           max_features=None,\n",
    "                           oob_score=True,\n",
    "                           random_state=42).fit(train_features, train_labels)"
   ]
  },
  {
   "cell_type": "code",
   "execution_count": 27,
   "metadata": {
    "scrolled": true
   },
   "outputs": [
    {
     "name": "stdout",
     "output_type": "stream",
     "text": [
      "              precision    recall  f1-score   support\n",
      "\n",
      "           1       0.70      0.76      0.73       266\n",
      "           2       0.64      0.56      0.60       200\n",
      "\n",
      "   micro avg       0.68      0.68      0.68       466\n",
      "   macro avg       0.67      0.66      0.67       466\n",
      "weighted avg       0.68      0.68      0.67       466\n",
      "\n",
      "              precision    recall  f1-score   support\n",
      "\n",
      "           1       0.76      0.85      0.80      1033\n",
      "           2       0.78      0.66      0.72       828\n",
      "\n",
      "   micro avg       0.77      0.77      0.77      1861\n",
      "   macro avg       0.77      0.76      0.76      1861\n",
      "weighted avg       0.77      0.77      0.77      1861\n",
      "\n"
     ]
    }
   ],
   "source": [
    "y_predict=rf.predict(test_features)\n",
    "print(classification_report(test_labels, y_predict))\n",
    "preds =rf.predict(train_features)\n",
    "print(classification_report(train_labels, preds))"
   ]
  },
  {
   "cell_type": "markdown",
   "metadata": {},
   "source": [
    "### Cross Validation-k-fold 5"
   ]
  },
  {
   "cell_type": "code",
   "execution_count": 28,
   "metadata": {},
   "outputs": [
    {
     "name": "stdout",
     "output_type": "stream",
     "text": [
      "[0.67024129 0.71849866 0.65951743 0.70889488 0.66846361]\n",
      "Accuracy: 0.69 (+/- 0.05)\n"
     ]
    }
   ],
   "source": [
    "scores = cross_val_score(rf, train_features,train_labels, cv=5)  #cv为迭代次数。\n",
    "print(scores)  # 打印输出每次迭代的度量值（准确度）Print the \n",
    "print(\"Accuracy: %0.2f (+/- %0.2f)\" % (scores.mean(), scores.std() * 2)) "
   ]
  },
  {
   "cell_type": "code",
   "execution_count": 29,
   "metadata": {},
   "outputs": [
    {
     "data": {
      "image/png": "[encoded data removed]",
      "text/plain": [
       "<Figure size 864x432 with 1 Axes>"
      ]
     },
     "metadata": {},
     "output_type": "display_data"
    }
   ],
   "source": [
    "importances = rf.feature_importances_\n",
    "feat_names = X_train.drop(['stars'],axis=1).columns\n",
    "indices = np.argsort(importances)[::-1]\n",
    "plt.figure(figsize=(12,6))\n",
    "plt.title(\"Feature importances by RandomForest\")\n",
    "plt.bar(range(len(indices)), importances[indices], color='lightblue',  align=\"center\")\n",
    "plt.step(range(len(indices)), np.cumsum(importances[indices]), where='mid', label='Cumulative')\n",
    "plt.xticks(range(len(indices)), feat_names[indices], rotation='vertical',fontsize=14)\n",
    "plt.xlim([-1, len(indices)])\n",
    "plt.show()"
   ]
  },
  {
   "cell_type": "code",
   "execution_count": 30,
   "metadata": {},
   "outputs": [],
   "source": [
    "# from sklearn.metrics import roc_auc_score\n",
    "# from sklearn.metrics import roc_curve\n",
    "# rf_roc_auc = roc_auc_score(test_labels, y_predict)\n",
    "# y_pred_prob = rf.predict_proba(test_features)[:,1]\n",
    "# fpr, tpr, thresholds = roc_curve(test_labels, y_pred_prob)\n",
    "# plt.figure()\n",
    "# plt.plot(fpr, tpr, label='Logistic Regression (area = %0.2f)' % rf_roc_auc)\n",
    "# plt.plot([0, 1], [0, 1],'r--')\n",
    "# plt.xlim([0.0, 1.0])\n",
    "# plt.ylim([0.0, 1.05])\n",
    "# plt.xlabel('False Positive Rate')\n",
    "# plt.ylabel('True Positive Rate')\n",
    "# plt.title('Receiver operating characteristic')\n",
    "# plt.legend(loc=\"lower right\")\n",
    "# plt.savefig('Log_ROC')\n",
    "# plt.show()"
   ]
  },
  {
   "cell_type": "code",
   "execution_count": 31,
   "metadata": {},
   "outputs": [],
   "source": [
    "Red['stars'] = Red['stars'].astype(float)\n",
    "star = []\n",
    "for i in Red['stars']:\n",
    "    if i <= 3.5:\n",
    "        star.append(1)\n",
    "    else:\n",
    "        star.append(2)\n",
    "Red['stars'] = star"
   ]
  },
  {
   "cell_type": "code",
   "execution_count": 32,
   "metadata": {},
   "outputs": [
    {
     "data": {
      "text/html": [
       "<div>\n",
       "<style scoped>\n",
       "    .dataframe tbody tr th:only-of-type {\n",
       "        vertical-align: middle;\n",
       "    }\n",
       "\n",
       "    .dataframe tbody tr th {\n",
       "        vertical-align: top;\n",
       "    }\n",
       "\n",
       "    .dataframe thead th {\n",
       "        text-align: right;\n",
       "    }\n",
       "</style>\n",
       "<table border=\"1\" class=\"dataframe\">\n",
       "  <thead>\n",
       "    <tr style=\"text-align: right;\">\n",
       "      <th></th>\n",
       "      <th>Shortlisted?</th>\n",
       "      <th>ProjectCategory</th>\n",
       "      <th>stars</th>\n",
       "      <th>review_count</th>\n",
       "      <th>is_open</th>\n",
       "      <th>label</th>\n",
       "      <th>PARKING</th>\n",
       "      <th>BikeParking</th>\n",
       "      <th>HairSpecializesIn_coloring</th>\n",
       "      <th>CONSUMER_SERVICE</th>\n",
       "      <th>NoiseLevel</th>\n",
       "      <th>Alcohol</th>\n",
       "      <th>Ambience_romantic</th>\n",
       "      <th>HappyHour</th>\n",
       "      <th>RECOMMENDATION</th>\n",
       "      <th>DogsAllowed</th>\n",
       "      <th>SPECIAL_FOOD</th>\n",
       "      <th>AgesAllowed</th>\n",
       "      <th>weekday</th>\n",
       "      <th>weekend</th>\n",
       "      <th>averghour</th>\n",
       "      <th>if_Chain</th>\n",
       "      <th>polarity</th>\n",
       "    </tr>\n",
       "  </thead>\n",
       "  <tbody>\n",
       "    <tr>\n",
       "      <th>3</th>\n",
       "      <td>0</td>\n",
       "      <td>18</td>\n",
       "      <td>1</td>\n",
       "      <td>37</td>\n",
       "      <td>1</td>\n",
       "      <td>0</td>\n",
       "      <td>0</td>\n",
       "      <td>1</td>\n",
       "      <td>0</td>\n",
       "      <td>0</td>\n",
       "      <td>0</td>\n",
       "      <td>0</td>\n",
       "      <td>0</td>\n",
       "      <td>0</td>\n",
       "      <td>0</td>\n",
       "      <td>0</td>\n",
       "      <td>0.0</td>\n",
       "      <td>0</td>\n",
       "      <td>56.0</td>\n",
       "      <td>23.0</td>\n",
       "      <td>11.285714</td>\n",
       "      <td>0</td>\n",
       "      <td>0.198911</td>\n",
       "    </tr>\n",
       "    <tr>\n",
       "      <th>4</th>\n",
       "      <td>0</td>\n",
       "      <td>20</td>\n",
       "      <td>2</td>\n",
       "      <td>37</td>\n",
       "      <td>0</td>\n",
       "      <td>0</td>\n",
       "      <td>0</td>\n",
       "      <td>0</td>\n",
       "      <td>0</td>\n",
       "      <td>1</td>\n",
       "      <td>0</td>\n",
       "      <td>0</td>\n",
       "      <td>0</td>\n",
       "      <td>0</td>\n",
       "      <td>0</td>\n",
       "      <td>0</td>\n",
       "      <td>0.0</td>\n",
       "      <td>0</td>\n",
       "      <td>25.0</td>\n",
       "      <td>10.0</td>\n",
       "      <td>5.000000</td>\n",
       "      <td>0</td>\n",
       "      <td>0.201747</td>\n",
       "    </tr>\n",
       "    <tr>\n",
       "      <th>5</th>\n",
       "      <td>0</td>\n",
       "      <td>19</td>\n",
       "      <td>1</td>\n",
       "      <td>7</td>\n",
       "      <td>1</td>\n",
       "      <td>0</td>\n",
       "      <td>0</td>\n",
       "      <td>0</td>\n",
       "      <td>0</td>\n",
       "      <td>1</td>\n",
       "      <td>0</td>\n",
       "      <td>0</td>\n",
       "      <td>0</td>\n",
       "      <td>0</td>\n",
       "      <td>0</td>\n",
       "      <td>0</td>\n",
       "      <td>0.0</td>\n",
       "      <td>0</td>\n",
       "      <td>69.5</td>\n",
       "      <td>29.0</td>\n",
       "      <td>14.071429</td>\n",
       "      <td>0</td>\n",
       "      <td>0.217009</td>\n",
       "    </tr>\n",
       "    <tr>\n",
       "      <th>7</th>\n",
       "      <td>0</td>\n",
       "      <td>4</td>\n",
       "      <td>2</td>\n",
       "      <td>172</td>\n",
       "      <td>1</td>\n",
       "      <td>0</td>\n",
       "      <td>1</td>\n",
       "      <td>0</td>\n",
       "      <td>0</td>\n",
       "      <td>1</td>\n",
       "      <td>0</td>\n",
       "      <td>0</td>\n",
       "      <td>0</td>\n",
       "      <td>0</td>\n",
       "      <td>0</td>\n",
       "      <td>0</td>\n",
       "      <td>0.0</td>\n",
       "      <td>0</td>\n",
       "      <td>57.5</td>\n",
       "      <td>22.5</td>\n",
       "      <td>11.428571</td>\n",
       "      <td>0</td>\n",
       "      <td>0.304418</td>\n",
       "    </tr>\n",
       "    <tr>\n",
       "      <th>8</th>\n",
       "      <td>0</td>\n",
       "      <td>13</td>\n",
       "      <td>1</td>\n",
       "      <td>6</td>\n",
       "      <td>0</td>\n",
       "      <td>0</td>\n",
       "      <td>1</td>\n",
       "      <td>1</td>\n",
       "      <td>0</td>\n",
       "      <td>0</td>\n",
       "      <td>0</td>\n",
       "      <td>0</td>\n",
       "      <td>0</td>\n",
       "      <td>0</td>\n",
       "      <td>0</td>\n",
       "      <td>0</td>\n",
       "      <td>0.0</td>\n",
       "      <td>0</td>\n",
       "      <td>26.0</td>\n",
       "      <td>21.0</td>\n",
       "      <td>6.714286</td>\n",
       "      <td>0</td>\n",
       "      <td>0.207411</td>\n",
       "    </tr>\n",
       "  </tbody>\n",
       "</table>\n",
       "</div>"
      ],
      "text/plain": [
       "   Shortlisted?  ProjectCategory  stars  review_count  is_open  label  \\\n",
       "3             0               18      1            37        1      0   \n",
       "4             0               20      2            37        0      0   \n",
       "5             0               19      1             7        1      0   \n",
       "7             0                4      2           172        1      0   \n",
       "8             0               13      1             6        0      0   \n",
       "\n",
       "   PARKING  BikeParking  HairSpecializesIn_coloring  CONSUMER_SERVICE  \\\n",
       "3        0            1                           0                 0   \n",
       "4        0            0                           0                 1   \n",
       "5        0            0                           0                 1   \n",
       "7        1            0                           0                 1   \n",
       "8        1            1                           0                 0   \n",
       "\n",
       "   NoiseLevel  Alcohol  Ambience_romantic  HappyHour  RECOMMENDATION  \\\n",
       "3           0        0                  0          0               0   \n",
       "4           0        0                  0          0               0   \n",
       "5           0        0                  0          0               0   \n",
       "7           0        0                  0          0               0   \n",
       "8           0        0                  0          0               0   \n",
       "\n",
       "   DogsAllowed  SPECIAL_FOOD  AgesAllowed  weekday  weekend  averghour  \\\n",
       "3            0           0.0            0     56.0     23.0  11.285714   \n",
       "4            0           0.0            0     25.0     10.0   5.000000   \n",
       "5            0           0.0            0     69.5     29.0  14.071429   \n",
       "7            0           0.0            0     57.5     22.5  11.428571   \n",
       "8            0           0.0            0     26.0     21.0   6.714286   \n",
       "\n",
       "   if_Chain  polarity  \n",
       "3         0  0.198911  \n",
       "4         0  0.201747  \n",
       "5         0  0.217009  \n",
       "7         0  0.304418  \n",
       "8         0  0.207411  "
      ]
     },
     "execution_count": 32,
     "metadata": {},
     "output_type": "execute_result"
    }
   ],
   "source": [
    "Red.head()"
   ]
  },
  {
   "cell_type": "code",
   "execution_count": 33,
   "metadata": {},
   "outputs": [],
   "source": [
    "y=Red['stars']"
   ]
  },
  {
   "cell_type": "code",
   "execution_count": 34,
   "metadata": {},
   "outputs": [
    {
     "name": "stdout",
     "output_type": "stream",
     "text": [
      "((1578, 23), (1578,))\n",
      "((395, 23), (395,))\n"
     ]
    }
   ],
   "source": [
    "X_train, X_test, y_train, y_test = train_test_split(Red, y, test_size=0.2)\n",
    "print(X_train.shape, y_train.shape)\n",
    "print(X_test.shape, y_test.shape)"
   ]
  },
  {
   "cell_type": "code",
   "execution_count": 35,
   "metadata": {},
   "outputs": [],
   "source": [
    "train_labels = X_train['stars'].reset_index(drop=True)\n",
    "train_features = X_train.drop(['stars'], axis=1)\n",
    "test_labels = X_test['stars'].reset_index(drop=True)\n",
    "test_features = X_test.drop(['stars'], axis=1)\n",
    "train_features = preprocessing.scale(train_features)\n",
    "test_features = preprocessing.scale(test_features)"
   ]
  },
  {
   "cell_type": "markdown",
   "metadata": {},
   "source": [
    "### Hyperparameters Tuning -- GridSeach CV "
   ]
  },
  {
   "cell_type": "code",
   "execution_count": 206,
   "metadata": {},
   "outputs": [],
   "source": [
    "# parameters = {'n_estimators':[1000,1500,2000,2500,3000,3500], 'max_depth':[11,12,13,14,15,16,17,18,19,20]}\n",
    "# rf = RandomForestClassifier(n_estimators=2500,\n",
    "#                            max_depth=19,\n",
    "#                            min_samples_split=15,\n",
    "#                            min_samples_leaf=5,\n",
    "#                            max_features=None,\n",
    "#                            oob_score=True,\n",
    "#                            random_state=42)\n",
    "# rf1 = GridSearchCV(rf, parameters)\n",
    "# rf1.fit(train_features, train_labels)\n",
    "# sorted(rf1.cv_results_.keys())"
   ]
  },
  {
   "cell_type": "code",
   "execution_count": 36,
   "metadata": {},
   "outputs": [],
   "source": [
    "rf = RandomForestClassifier(n_estimators=2500,\n",
    "                           max_depth=19,\n",
    "                           min_samples_split=15,\n",
    "                           min_samples_leaf=5,\n",
    "                           max_features=None,\n",
    "                           oob_score=True,\n",
    "                           random_state=42).fit(train_features, train_labels)"
   ]
  },
  {
   "cell_type": "code",
   "execution_count": 37,
   "metadata": {},
   "outputs": [
    {
     "name": "stdout",
     "output_type": "stream",
     "text": [
      "              precision    recall  f1-score   support\n",
      "\n",
      "           1       0.72      0.84      0.78       247\n",
      "           2       0.64      0.47      0.54       148\n",
      "\n",
      "   micro avg       0.70      0.70      0.70       395\n",
      "   macro avg       0.68      0.65      0.66       395\n",
      "weighted avg       0.69      0.70      0.69       395\n",
      "\n",
      "              precision    recall  f1-score   support\n",
      "\n",
      "           1       0.84      0.94      0.88       930\n",
      "           2       0.89      0.74      0.81       648\n",
      "\n",
      "   micro avg       0.85      0.85      0.85      1578\n",
      "   macro avg       0.86      0.84      0.85      1578\n",
      "weighted avg       0.86      0.85      0.85      1578\n",
      "\n"
     ]
    }
   ],
   "source": [
    "y_predict=rf.predict(test_features)\n",
    "print(classification_report(test_labels, y_predict))\n",
    "preds =rf.predict(train_features)\n",
    "print(classification_report(train_labels, preds))"
   ]
  },
  {
   "cell_type": "code",
   "execution_count": 38,
   "metadata": {},
   "outputs": [
    {
     "data": {
      "image/png": "[encoded data removed]",
      "text/plain": [
       "<Figure size 864x432 with 1 Axes>"
      ]
     },
     "metadata": {},
     "output_type": "display_data"
    }
   ],
   "source": [
    "importances = rf.feature_importances_\n",
    "feat_names = X_train.drop(['stars'],axis=1).columns\n",
    "indices = np.argsort(importances)[::-1]\n",
    "plt.figure(figsize=(12,6))\n",
    "plt.title(\"Feature importances by RandomForest\")\n",
    "plt.bar(range(len(indices)), importances[indices], color='lightblue',  align=\"center\")\n",
    "plt.step(range(len(indices)), np.cumsum(importances[indices]), where='mid', label='Cumulative')\n",
    "plt.xticks(range(len(indices)), feat_names[indices], rotation='vertical',fontsize=14)\n",
    "plt.xlim([-1, len(indices)])\n",
    "plt.show()"
   ]
  },
  {
   "cell_type": "markdown",
   "metadata": {},
   "source": [
    "# Conclusion:"
   ]
  },
  {
   "cell_type": "markdown",
   "metadata": {},
   "source": [
    "Based on the above analysis,  polarity of the reviews, review counts, average opening hours, category of the restaurants, weekdays and weekend opening hours are important to the success of the restarants on Yelp. However, the opening hours for blue areas is more important, it may because it is commercial area with higher population, so no matter what is the category of the restarants, it still have a lot of people visit everyday. However, for rurual areas, category pf the resteraunts is more important, which means that people's preference plays an important role in small area."
   ]
  },
  {
   "cell_type": "code",
   "execution_count": null,
   "metadata": {},
   "outputs": [],
   "source": []
  }
 ],
 "metadata": {
  "kernelspec": {
   "display_name": "Python 2",
   "language": "python",
   "name": "python2"
  },
  "language_info": {
   "codemirror_mode": {
    "name": "ipython",
    "version": 2
   },
   "file_extension": ".py",
   "mimetype": "text/x-python",
   "name": "python",
   "nbconvert_exporter": "python",
   "pygments_lexer": "ipython2",
   "version": "2.7.16"
  }
 },
 "nbformat": 4,
 "nbformat_minor": 2
}
