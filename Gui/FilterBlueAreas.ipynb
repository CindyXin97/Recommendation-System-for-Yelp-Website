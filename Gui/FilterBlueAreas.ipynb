{
 "nbformat": 4,
 "nbformat_minor": 2,
 "metadata": {
  "language_info": {
   "name": "python",
   "codemirror_mode": {
    "name": "ipython",
    "version": 2
   },
   "version": "2.7.16"
  },
  "orig_nbformat": 2,
  "file_extension": ".py",
  "mimetype": "text/x-python",
  "name": "python",
  "npconvert_exporter": "python",
  "pygments_lexer": "ipython2",
  "version": 2
 },
 "cells": [
  {
   "cell_type": "code",
   "execution_count": 1,
   "metadata": {},
   "outputs": [],
   "source": [
    "import pandas as pd\n",
    "import os\n",
    "import numpy as np\n",
    "import csv\n",
    "import random\n",
    "from datetime import date"
   ]
  },
  {
   "cell_type": "markdown",
   "execution_count": null,
   "metadata": {},
   "outputs": [],
   "source": [
    "## Import data"
   ]
  },
  {
   "cell_type": "code",
   "execution_count": 2,
   "metadata": {},
   "outputs": [],
   "source": [
    "Yelp_Business = pd.read_csv('BlueAreaData/data/yelp_business.csv') "
   ]
  },
  {
   "cell_type": "code",
   "execution_count": 3,
   "metadata": {},
   "outputs": [],
   "source": [
    "df_zip_label = pd.read_csv('BlueAreaData/data/df_zip_label.csv')"
   ]
  },
  {
   "cell_type": "code",
   "execution_count": 4,
   "metadata": {},
   "outputs": [],
   "source": [
    "BA_postal_code = df_zip_label['postal_code']\n",
    "BA_postal_code = BA_postal_code.unique()\n",
    "BA_postal_code = BA_postal_code.tolist()\n",
    "BA_postal_code = map(str,BA_postal_code)\n",
    "Yelp_Blue_Area = Yelp_Business[Yelp_Business['postal_code'].isin(BA_postal_code)]"
   ]
  },
  {
   "cell_type": "code",
   "execution_count": 5,
   "metadata": {},
   "outputs": [],
   "source": [
    "ListCategories = pd.read_excel('BlueAreaData/data/ListOfCategories.xlsx', sheet_name='AllCategories', skip_blank_lines=True, encoding='utf-8', usecols = \"A,B,X\")"
   ]
  },
  {
   "cell_type": "code",
   "execution_count": 6,
   "metadata": {},
   "outputs": [],
   "source": [
    "Yelp_Blue_Area_c = pd.merge(ListCategories, Yelp_Blue_Area, left_on=('FullList'), right_on=('categories'))\n",
    "Yelp_Blue_Area_c = Yelp_Blue_Area_c.drop(columns=['FullList'])"
   ]
  },
  {
   "cell_type": "code",
   "execution_count": 10,
   "metadata": {},
   "outputs": [],
   "source": [
    "BusHours = pd.read_csv('BlueAreaData/data/Pheonix_BusinessHour_r.csv')"
   ]
  },
  {
   "cell_type": "code",
   "execution_count": 11,
   "metadata": {},
   "outputs": [],
   "source": [
    "Yelp_Blue_Area_c_bh = pd.merge(BusHours, Yelp_Blue_Area_c, on='business_id')"
   ]
  },
  {
   "cell_type": "code",
   "execution_count": 12,
   "metadata": {},
   "outputs": [],
   "source": [
    "Yelp_Reviews_Phoenix = pd.read_csv('BlueAreaData/data/Yelp_Reviews_Phoenix.csv')"
   ]
  },
  {
   "cell_type": "code",
   "execution_count": 13,
   "metadata": {},
   "outputs": [],
   "source": [
    "Yelp_Blue_Area_c_reviews = pd.merge(Yelp_Blue_Area_c_bh,Yelp_Reviews_Phoenix, on='business_id' )"
   ]
  },
  {
   "cell_type": "code",
   "execution_count": 14,
   "metadata": {},
   "outputs": [],
   "source": [
    "Yelp_Blue_Area_c_reviews.to_csv('BlueAreaData/BlueArea_reviews.csv')\n",
    "Yelp_Blue_Area_c_bh.to_csv('BlueAreaData/BlueArea_business.csv')"
   ]
  },
  {
   "cell_type": "code",
   "execution_count": null,
   "metadata": {},
   "outputs": [],
   "source": []
  }
 ]
}